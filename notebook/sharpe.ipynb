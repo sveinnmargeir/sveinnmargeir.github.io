{
 "cells": [
  {
   "cell_type": "code",
   "execution_count": 33,
   "metadata": {},
   "outputs": [],
   "source": [
    "# import packages\n",
    "import pandas as pd"
   ]
  },
  {
   "cell_type": "code",
   "execution_count": 34,
   "metadata": {},
   "outputs": [
    {
     "name": "stdout",
     "output_type": "stream",
     "text": [
      "Date\n",
      "1998-06-10    0.000295\n",
      "1998-06-11    0.000302\n",
      "1998-06-12    0.000291\n",
      "1998-06-15    0.000300\n",
      "1998-06-16    0.000298\n",
      "Freq: B, Name: rf_log_daily, dtype: float64\n"
     ]
    }
   ],
   "source": [
    "import pandas as pd\n",
    "import numpy as np\n",
    "from pathlib import Path\n",
    "\n",
    "# --- load CBI REIBOR O/N (percent, daily) and convert to daily log rf ---\n",
    "def load_cbi_rf_logdaily(path: Path, col_name: str = \"REIBOR, O/N\") -> pd.Series:\n",
    "    df = pd.read_csv(path)\n",
    "    # clean headers & parse dates (CBI uses dd.mm.yyyy)\n",
    "    df.columns = [c.strip() for c in df.columns]\n",
    "    df[\"Date\"] = pd.to_datetime(df[\"Date\"], dayfirst=True, errors=\"coerce\")\n",
    "\n",
    "    # percent -> decimal annual yield\n",
    "    y_annual = pd.to_numeric(df[col_name], errors=\"coerce\") / 100.0\n",
    "    s = pd.Series(y_annual.values, index=df[\"Date\"]).sort_index().dropna()\n",
    "\n",
    "    # convert annual yield to daily simple return then to daily *log* return\n",
    "    # (daily compounding assumption, 252 trading days)\n",
    "    r_daily_simple = (1 + s)**(1/252) - 1\n",
    "    rf_log_daily = np.log1p(r_daily_simple)\n",
    "\n",
    "    # align to business days and forward-fill\n",
    "    rf_log_daily = rf_log_daily.asfreq(\"B\").bfill()\n",
    "    rf_log_daily.name = \"rf_log_daily\"\n",
    "    return rf_log_daily\n",
    "\n",
    "# go one level up from \"notebook/\" to repo root, then into data/market_data/rf\n",
    "rf_folder = Path(\"../data/market_data/rf\")\n",
    "market_rates_file = rf_folder / \"Market rates.csv\"\n",
    "\n",
    "rf_log_daily = load_cbi_rf_logdaily(market_rates_file, col_name=\"REIBOR, O/N\")\n",
    "print(rf_log_daily.head())\n"
   ]
  },
  {
   "cell_type": "code",
   "execution_count": 35,
   "metadata": {},
   "outputs": [
    {
     "name": "stdout",
     "output_type": "stream",
     "text": [
      "CWD: /Users/smh/Desktop/Website/sveinnmargeir.github.io/notebook\n",
      "Repo root: /Users/smh/Desktop/Website/sveinnmargeir.github.io\n",
      "Found 31 market CSVs\n",
      "Examples: [PosixPath('kvika.csv'), PosixPath('alvo.csv'), PosixPath('amrq.csv'), PosixPath('nova.csv'), PosixPath('eim.csv')]\n",
      "\n",
      "Files with issues:\n",
      " - sharpe_heatmap_table.csv: \"Missing Date/Close. Columns: ['ticker', '1y', '3y', '5y']\"\n",
      " - sharpe_composite_rank.csv: \"Missing Date/Close. Columns: ['ticker', 'composite_rank', '1y', '3y', '5y', 'obs', 'cum_return']\"\n",
      "\n",
      "Columns built: ['1Y', '3Y', '5Y', 'obs', 'cum_return']\n",
      "\n",
      "Sharpe table (head):\n",
      "              1Y        3Y        5Y   obs  cum_return\n",
      "ticker                                                \n",
      "ALVO   -0.958468 -0.167566 -0.301407   788   -0.230480\n",
      "AMRQ    0.048461  0.401749  0.401749   697    0.775591\n",
      "ARION   0.851506 -0.378980  0.624276  1788    0.981982\n",
      "BRIM   -1.944946 -1.350616  0.070756  2491    0.539457\n",
      "EIK     0.957636 -0.491817  0.312331  2491    0.928571\n",
      "\n",
      "Saved: /Users/smh/Desktop/Website/sveinnmargeir.github.io/notebook/sharpe_heatmap_table.csv\n"
     ]
    },
    {
     "name": "stderr",
     "output_type": "stream",
     "text": [
      "/var/folders/7q/6lj2n2p91rd55drvkkr0bqq40000gn/T/ipykernel_12464/3209377337.py:137: FutureWarning:\n",
      "\n",
      "Series.fillna with 'method' is deprecated and will raise in a future version. Use obj.ffill() or obj.bfill() instead.\n",
      "\n",
      "/var/folders/7q/6lj2n2p91rd55drvkkr0bqq40000gn/T/ipykernel_12464/3209377337.py:137: FutureWarning:\n",
      "\n",
      "Series.fillna with 'method' is deprecated and will raise in a future version. Use obj.ffill() or obj.bfill() instead.\n",
      "\n",
      "/var/folders/7q/6lj2n2p91rd55drvkkr0bqq40000gn/T/ipykernel_12464/3209377337.py:137: FutureWarning:\n",
      "\n",
      "Series.fillna with 'method' is deprecated and will raise in a future version. Use obj.ffill() or obj.bfill() instead.\n",
      "\n",
      "/var/folders/7q/6lj2n2p91rd55drvkkr0bqq40000gn/T/ipykernel_12464/3209377337.py:137: FutureWarning:\n",
      "\n",
      "Series.fillna with 'method' is deprecated and will raise in a future version. Use obj.ffill() or obj.bfill() instead.\n",
      "\n",
      "/var/folders/7q/6lj2n2p91rd55drvkkr0bqq40000gn/T/ipykernel_12464/3209377337.py:137: FutureWarning:\n",
      "\n",
      "Series.fillna with 'method' is deprecated and will raise in a future version. Use obj.ffill() or obj.bfill() instead.\n",
      "\n",
      "/var/folders/7q/6lj2n2p91rd55drvkkr0bqq40000gn/T/ipykernel_12464/3209377337.py:137: FutureWarning:\n",
      "\n",
      "Series.fillna with 'method' is deprecated and will raise in a future version. Use obj.ffill() or obj.bfill() instead.\n",
      "\n",
      "/var/folders/7q/6lj2n2p91rd55drvkkr0bqq40000gn/T/ipykernel_12464/3209377337.py:137: FutureWarning:\n",
      "\n",
      "Series.fillna with 'method' is deprecated and will raise in a future version. Use obj.ffill() or obj.bfill() instead.\n",
      "\n",
      "/var/folders/7q/6lj2n2p91rd55drvkkr0bqq40000gn/T/ipykernel_12464/3209377337.py:137: FutureWarning:\n",
      "\n",
      "Series.fillna with 'method' is deprecated and will raise in a future version. Use obj.ffill() or obj.bfill() instead.\n",
      "\n",
      "/var/folders/7q/6lj2n2p91rd55drvkkr0bqq40000gn/T/ipykernel_12464/3209377337.py:137: FutureWarning:\n",
      "\n",
      "Series.fillna with 'method' is deprecated and will raise in a future version. Use obj.ffill() or obj.bfill() instead.\n",
      "\n",
      "/var/folders/7q/6lj2n2p91rd55drvkkr0bqq40000gn/T/ipykernel_12464/3209377337.py:137: FutureWarning:\n",
      "\n",
      "Series.fillna with 'method' is deprecated and will raise in a future version. Use obj.ffill() or obj.bfill() instead.\n",
      "\n",
      "/var/folders/7q/6lj2n2p91rd55drvkkr0bqq40000gn/T/ipykernel_12464/3209377337.py:137: FutureWarning:\n",
      "\n",
      "Series.fillna with 'method' is deprecated and will raise in a future version. Use obj.ffill() or obj.bfill() instead.\n",
      "\n",
      "/var/folders/7q/6lj2n2p91rd55drvkkr0bqq40000gn/T/ipykernel_12464/3209377337.py:137: FutureWarning:\n",
      "\n",
      "Series.fillna with 'method' is deprecated and will raise in a future version. Use obj.ffill() or obj.bfill() instead.\n",
      "\n",
      "/var/folders/7q/6lj2n2p91rd55drvkkr0bqq40000gn/T/ipykernel_12464/3209377337.py:137: FutureWarning:\n",
      "\n",
      "Series.fillna with 'method' is deprecated and will raise in a future version. Use obj.ffill() or obj.bfill() instead.\n",
      "\n",
      "/var/folders/7q/6lj2n2p91rd55drvkkr0bqq40000gn/T/ipykernel_12464/3209377337.py:137: FutureWarning:\n",
      "\n",
      "Series.fillna with 'method' is deprecated and will raise in a future version. Use obj.ffill() or obj.bfill() instead.\n",
      "\n",
      "/var/folders/7q/6lj2n2p91rd55drvkkr0bqq40000gn/T/ipykernel_12464/3209377337.py:137: FutureWarning:\n",
      "\n",
      "Series.fillna with 'method' is deprecated and will raise in a future version. Use obj.ffill() or obj.bfill() instead.\n",
      "\n",
      "/var/folders/7q/6lj2n2p91rd55drvkkr0bqq40000gn/T/ipykernel_12464/3209377337.py:137: FutureWarning:\n",
      "\n",
      "Series.fillna with 'method' is deprecated and will raise in a future version. Use obj.ffill() or obj.bfill() instead.\n",
      "\n",
      "/var/folders/7q/6lj2n2p91rd55drvkkr0bqq40000gn/T/ipykernel_12464/3209377337.py:137: FutureWarning:\n",
      "\n",
      "Series.fillna with 'method' is deprecated and will raise in a future version. Use obj.ffill() or obj.bfill() instead.\n",
      "\n",
      "/var/folders/7q/6lj2n2p91rd55drvkkr0bqq40000gn/T/ipykernel_12464/3209377337.py:137: FutureWarning:\n",
      "\n",
      "Series.fillna with 'method' is deprecated and will raise in a future version. Use obj.ffill() or obj.bfill() instead.\n",
      "\n",
      "/var/folders/7q/6lj2n2p91rd55drvkkr0bqq40000gn/T/ipykernel_12464/3209377337.py:137: FutureWarning:\n",
      "\n",
      "Series.fillna with 'method' is deprecated and will raise in a future version. Use obj.ffill() or obj.bfill() instead.\n",
      "\n",
      "/var/folders/7q/6lj2n2p91rd55drvkkr0bqq40000gn/T/ipykernel_12464/3209377337.py:137: FutureWarning:\n",
      "\n",
      "Series.fillna with 'method' is deprecated and will raise in a future version. Use obj.ffill() or obj.bfill() instead.\n",
      "\n",
      "/var/folders/7q/6lj2n2p91rd55drvkkr0bqq40000gn/T/ipykernel_12464/3209377337.py:137: FutureWarning:\n",
      "\n",
      "Series.fillna with 'method' is deprecated and will raise in a future version. Use obj.ffill() or obj.bfill() instead.\n",
      "\n",
      "/var/folders/7q/6lj2n2p91rd55drvkkr0bqq40000gn/T/ipykernel_12464/3209377337.py:137: FutureWarning:\n",
      "\n",
      "Series.fillna with 'method' is deprecated and will raise in a future version. Use obj.ffill() or obj.bfill() instead.\n",
      "\n",
      "/var/folders/7q/6lj2n2p91rd55drvkkr0bqq40000gn/T/ipykernel_12464/3209377337.py:137: FutureWarning:\n",
      "\n",
      "Series.fillna with 'method' is deprecated and will raise in a future version. Use obj.ffill() or obj.bfill() instead.\n",
      "\n",
      "/var/folders/7q/6lj2n2p91rd55drvkkr0bqq40000gn/T/ipykernel_12464/3209377337.py:137: FutureWarning:\n",
      "\n",
      "Series.fillna with 'method' is deprecated and will raise in a future version. Use obj.ffill() or obj.bfill() instead.\n",
      "\n",
      "/var/folders/7q/6lj2n2p91rd55drvkkr0bqq40000gn/T/ipykernel_12464/3209377337.py:137: FutureWarning:\n",
      "\n",
      "Series.fillna with 'method' is deprecated and will raise in a future version. Use obj.ffill() or obj.bfill() instead.\n",
      "\n",
      "/var/folders/7q/6lj2n2p91rd55drvkkr0bqq40000gn/T/ipykernel_12464/3209377337.py:137: FutureWarning:\n",
      "\n",
      "Series.fillna with 'method' is deprecated and will raise in a future version. Use obj.ffill() or obj.bfill() instead.\n",
      "\n",
      "/var/folders/7q/6lj2n2p91rd55drvkkr0bqq40000gn/T/ipykernel_12464/3209377337.py:137: FutureWarning:\n",
      "\n",
      "Series.fillna with 'method' is deprecated and will raise in a future version. Use obj.ffill() or obj.bfill() instead.\n",
      "\n",
      "/var/folders/7q/6lj2n2p91rd55drvkkr0bqq40000gn/T/ipykernel_12464/3209377337.py:137: FutureWarning:\n",
      "\n",
      "Series.fillna with 'method' is deprecated and will raise in a future version. Use obj.ffill() or obj.bfill() instead.\n",
      "\n",
      "/var/folders/7q/6lj2n2p91rd55drvkkr0bqq40000gn/T/ipykernel_12464/3209377337.py:137: FutureWarning:\n",
      "\n",
      "Series.fillna with 'method' is deprecated and will raise in a future version. Use obj.ffill() or obj.bfill() instead.\n",
      "\n"
     ]
    }
   ],
   "source": [
    "import os, io, json\n",
    "from pathlib import Path\n",
    "import pandas as pd\n",
    "import numpy as np\n",
    "\n",
    "# =========================\n",
    "# -------- CONFIG ---------\n",
    "# =========================\n",
    "WINDOWS = (252, 756, 1260)  # 1Y, 3Y, 5Y\n",
    "ANN = 252\n",
    "\n",
    "# If you want a constant RF, set RF_ANNUAL (e.g., 0.075 for 7.5%) and leave RF_CSV/RF_COL as None.\n",
    "# If you want to use the CSV risk-free series (recommended), set RF_CSV/RF_COL and set RF_ANNUAL=None.\n",
    "RF_ANNUAL = None\n",
    "\n",
    "# These defaults match your repo:\n",
    "#   data/market_data/rf/Market rates.csv   with a column \"REIBOR, O/N\"\n",
    "def _find_repo_root(start=Path.cwd()):\n",
    "    for p in [start, *start.parents]:\n",
    "        if (p / \".git\").exists() or (p / \"docs\").exists():\n",
    "            return p\n",
    "    return start\n",
    "\n",
    "REPO_ROOT = _find_repo_root()\n",
    "DATA_ROOT = REPO_ROOT / \"data\" / \"market_data\"\n",
    "MARKET_DIR = DATA_ROOT / \"market\"\n",
    "RF_CSV = DATA_ROOT / \"rf\" / \"Market rates.csv\"\n",
    "RF_COL = \"REIBOR, O/N\"   # adjust if your header differs exactly (watch spaces/case)\n",
    "\n",
    "# Output locations\n",
    "OUT_TABLE_CSV = Path(\"sharpe_heatmap_table.csv\")       # saved next to the notebook\n",
    "SITE_DATA_DIR = REPO_ROOT / \"docs\" / \"data\"            # for website JSON\n",
    "SITE_DATA_DIR.mkdir(parents=True, exist_ok=True)\n",
    "\n",
    "# =========================\n",
    "# ------ UTIL FUNCS -------\n",
    "# =========================\n",
    "def to_daily_rf_returns_from_annual(rf_annual, ann=ANN):\n",
    "    \"\"\"Convert annualized yield to a constant daily simple return.\"\"\"\n",
    "    return (1 + rf_annual)**(1/ann) - 1\n",
    "\n",
    "def to_daily_rf_returns_from_series(rf_df, rate_col, ann=252):\n",
    "    \"\"\"\n",
    "    rf_df indexed by date; column 'rate_col' is in PERCENT (e.g., 7.5 for 7.5%).\n",
    "    Returns business-day daily simple returns Series named 'rf_daily'.\n",
    "    \"\"\"\n",
    "    rf = rf_df[[rate_col]].copy()\n",
    "    rf.index = pd.to_datetime(rf.index, errors=\"coerce\")\n",
    "    rf = rf.dropna(subset=[rate_col])               # drop rows with missing rate\n",
    "    rf = rf.sort_index()\n",
    "\n",
    "    # --- handle duplicate dates (e.g., multiple rows per day from the export) ---\n",
    "    # keep the last observation per day (or use .mean() if you prefer)\n",
    "    if not rf.index.is_unique:\n",
    "        rf = rf.groupby(level=0).last()\n",
    "\n",
    "    # percent -> decimal annual yield\n",
    "    rf_dec = rf[rate_col] / 100.0\n",
    "\n",
    "    # convert each day's annual yield to a daily simple return\n",
    "    rf_daily = (1 + rf_dec).pow(1/ann) - 1\n",
    "\n",
    "    # fill to business days; resample tolerates prior duplicates (unlike asfreq)\n",
    "    rf_daily = rf_daily.resample(\"B\").ffill()\n",
    "\n",
    "    rf_daily.name = \"rf_daily\"\n",
    "    return rf_daily\n",
    "\n",
    "\n",
    "def load_rf_daily_series():\n",
    "    if RF_CSV and RF_COL and Path(RF_CSV).exists():\n",
    "        # Try reading with index in first column; if not, fall back to parse 'Date' column heuristics\n",
    "        try:\n",
    "            rf_df = pd.read_csv(RF_CSV, index_col=0)\n",
    "            # if index isn't datetime, try to coerce\n",
    "            if not np.issubdtype(pd.Index(rf_df.index).dtype, np.datetime64):\n",
    "                rf_df.index = pd.to_datetime(rf_df.index, errors=\"coerce\")\n",
    "        except Exception:\n",
    "            rf_df = pd.read_csv(RF_CSV)\n",
    "            # guess date column\n",
    "            date_col = next((c for c in rf_df.columns if str(c).lower() in (\"date\", \"dagsetning\")), rf_df.columns[0])\n",
    "            rf_df[date_col] = pd.to_datetime(rf_df[date_col], errors=\"coerce\")\n",
    "            rf_df = rf_df.dropna(subset=[date_col]).set_index(date_col)\n",
    "        return to_daily_rf_returns_from_series(rf_df, RF_COL)\n",
    "    elif RF_ANNUAL is not None:\n",
    "        # constant daily RF (Series-like scalar)\n",
    "        return pd.Series(to_daily_rf_returns_from_annual(RF_ANNUAL), index=pd.DatetimeIndex([], freq=\"B\"), name=\"rf_daily\")\n",
    "    else:\n",
    "        return None  # falls back to 0% if not provided\n",
    "\n",
    "rf_daily_series = load_rf_daily_series()\n",
    "\n",
    "def load_nasdaq_iceland_csv(path: Path):\n",
    "    \"\"\"\n",
    "    Handles NASDAQ Iceland CSVs that sometimes include a \"sep=;\" header and thousand separators.\n",
    "    Returns a DataFrame indexed by date with a 'close' column.\n",
    "    \"\"\"\n",
    "    with open(path, \"r\", encoding=\"latin1\") as f:\n",
    "        first = f.readline().strip()\n",
    "        rest = f.read()\n",
    "    if first.lower().startswith(\"sep=\") and len(first) == 5:\n",
    "        sep = first[-1]; raw = rest\n",
    "    else:\n",
    "        sep = None; raw = first + \"\\n\" + rest\n",
    "    df = pd.read_csv(io.StringIO(raw), sep=sep, engine=\"python\")\n",
    "    df.columns = [c.strip() for c in df.columns]\n",
    "    lc = {c: c.lower() for c in df.columns}\n",
    "    df = df.rename(columns=lc)\n",
    "\n",
    "    date_col = \"date\"\n",
    "    close_candidates = [\"closing price\",\"close\",\"closing\",\"lokaverð\",\"loka verð\",\"loka verd\"]\n",
    "    close_col = next((c for c in df.columns if c in close_candidates), None)\n",
    "    if date_col not in df.columns or close_col is None:\n",
    "        raise KeyError(f\"Missing Date/Close. Columns: {list(df.columns)}\")\n",
    "\n",
    "    s = (df[close_col].astype(str)\n",
    "         .str.replace(\"\\u00A0\",\"\",regex=False)\n",
    "         .str.replace(\" \",\"\",regex=False)\n",
    "         .str.replace(\",\",\"\",regex=False))\n",
    "    df[\"close\"] = pd.to_numeric(s, errors=\"coerce\")\n",
    "    df[\"date\"] = pd.to_datetime(df[date_col], errors=\"coerce\")\n",
    "    df = df.dropna(subset=[\"date\",\"close\"]).sort_values(\"date\").set_index(\"date\")[[\"close\"]]\n",
    "    return df\n",
    "\n",
    "def log_returns(close):\n",
    "    return np.log(close/close.shift(1)).dropna()\n",
    "\n",
    "def sharpe_from_excess(excess, ann_factor=ANN):\n",
    "    mu, sig = excess.mean(), excess.std()\n",
    "    return (mu / (sig if sig else np.nan)) * np.sqrt(ann_factor)\n",
    "\n",
    "def windowed_sharpe(log_ret, windows_days=WINDOWS, ann_factor=ANN):\n",
    "    out = {}\n",
    "    # Build the daily risk-free Series aligned to log_ret\n",
    "    if rf_daily_series is not None and (not isinstance(rf_daily_series, float)):\n",
    "        if isinstance(rf_daily_series, pd.Series) and (rf_daily_series.index.size > 0):\n",
    "            rf_daily = rf_daily_series.reindex(log_ret.index, method=\"ffill\").fillna(method=\"ffill\")\n",
    "            excess = log_ret - rf_daily\n",
    "        else:\n",
    "            # rf_daily_series is a scalar-like series (constant RF)\n",
    "            excess = log_ret - float(rf_daily_series.iloc[0]) if hasattr(rf_daily_series, \"iloc\") and len(rf_daily_series) else log_ret\n",
    "    elif RF_ANNUAL is not None:\n",
    "        rf_d = to_daily_rf_returns_from_annual(RF_ANNUAL, ann_factor)\n",
    "        excess = log_ret - rf_d\n",
    "    else:\n",
    "        excess = log_ret  # rf = 0\n",
    "\n",
    "    for wd in windows_days:\n",
    "        tail = excess.tail(wd)\n",
    "        out[f\"{wd//252}Y\"] = np.nan if len(tail) < max(30, wd//10) else sharpe_from_excess(tail, ann_factor)\n",
    "    return out\n",
    "\n",
    "# =========================\n",
    "# ------- MAIN RUN --------\n",
    "# =========================\n",
    "print(\"CWD:\", os.getcwd())\n",
    "print(\"Repo root:\", REPO_ROOT)\n",
    "\n",
    "# --- find market CSVs (tickers) ---\n",
    "if not MARKET_DIR.exists():\n",
    "    raise FileNotFoundError(f\"Expected market data folder not found: {MARKET_DIR}\")\n",
    "\n",
    "market_csvs = list(MARKET_DIR.rglob(\"*.csv\")) + list(MARKET_DIR.rglob(\"*.CSV\"))\n",
    "if not market_csvs:\n",
    "    raise RuntimeError(f\"No market CSVs found under {MARKET_DIR}\")\n",
    "\n",
    "print(f\"Found {len(market_csvs)} market CSVs\")\n",
    "print(\"Examples:\", [p.relative_to(MARKET_DIR) for p in market_csvs[:5]])\n",
    "\n",
    "rows, errors = [], []\n",
    "for csv_path in market_csvs:\n",
    "    try:\n",
    "        df = load_nasdaq_iceland_csv(csv_path)\n",
    "        r = log_returns(df[\"close\"])\n",
    "        metrics = windowed_sharpe(r)\n",
    "        metrics[\"ticker\"] = csv_path.stem.upper()\n",
    "        metrics[\"obs\"] = int(len(r))\n",
    "        metrics[\"cum_return\"] = float(np.exp(r.sum()) - 1)\n",
    "        rows.append(metrics)\n",
    "    except Exception as e:\n",
    "        errors.append((str(csv_path.relative_to(MARKET_DIR)), str(e)))\n",
    "\n",
    "if errors:\n",
    "    print(\"\\nFiles with issues:\")\n",
    "    for name, msg in errors:\n",
    "        print(f\" - {name}: {msg}\")\n",
    "\n",
    "if not rows:\n",
    "    raise RuntimeError(\"No valid market CSVs loaded. See errors above and fix column names/separators.\")\n",
    "\n",
    "sharpe_df = pd.DataFrame.from_records(rows)\n",
    "if \"ticker\" not in sharpe_df.columns:\n",
    "    raise KeyError(\"Ticker column missing after row build.\")\n",
    "sharpe_df = sharpe_df.set_index(\"ticker\").sort_index()\n",
    "print(\"\\nColumns built:\", sharpe_df.columns.tolist())\n",
    "print(\"\\nSharpe table (head):\")\n",
    "print(sharpe_df.head())\n",
    "\n",
    "# Save small table\n",
    "sharpe_df[[\"1Y\",\"3Y\",\"5Y\"]].to_csv(OUT_TABLE_CSV)\n",
    "print(f\"\\nSaved: {OUT_TABLE_CSV.resolve()}\")\n",
    "\n"
   ]
  },
  {
   "cell_type": "code",
   "execution_count": 36,
   "metadata": {},
   "outputs": [
    {
     "data": {
      "application/vnd.plotly.v1+json": {
       "config": {
        "plotlyServerURL": "https://plot.ly"
       },
       "data": [
        {
         "coloraxis": "coloraxis",
         "hovertemplate": "<b>%{y}</b><br>%{x}: %{z:.2f}<extra></extra>",
         "name": "0",
         "text": [
          [
           "-0.16",
           "0.52",
           "0.55"
          ],
          [
           "0.05",
           "0.40",
           "0.40"
          ],
          [
           "0.49",
           "0.30",
           "0.30"
          ],
          [
           "0.63",
           "0.22",
           "0.46"
          ],
          [
           "1.52",
           "0.12",
           "0.62"
          ],
          [
           "1.41",
           "0.12",
           "0.52"
          ],
          [
           "1.23",
           "0.02",
           "0.40"
          ],
          [
           "0.49",
           "-0.06",
           "0.51"
          ],
          [
           "0.82",
           "-0.16",
           "0.40"
          ],
          [
           "-0.96",
           "-0.17",
           "-0.30"
          ],
          [
           "-0.23",
           "-0.21",
           "0.32"
          ],
          [
           "1.42",
           "-0.29",
           "0.46"
          ],
          [
           "1.04",
           "-0.32",
           "-0.36"
          ],
          [
           "-0.33",
           "-0.33",
           "-0.33"
          ],
          [
           "0.05",
           "-0.37",
           "0.30"
          ],
          [
           "0.70",
           "-0.38",
           "0.31"
          ],
          [
           "0.85",
           "-0.38",
           "0.62"
          ],
          [
           "0.54",
           "-0.41",
           "0.01"
          ],
          [
           "0.22",
           "-0.47",
           "0.21"
          ],
          [
           "0.96",
           "-0.49",
           "0.31"
          ],
          [
           "0.35",
           "-0.62",
           "-0.02"
          ],
          [
           "0.25",
           "-0.85",
           "-0.38"
          ],
          [
           "-0.52",
           "-0.94",
           "0.47"
          ],
          [
           "-0.22",
           "-1.07",
           "-0.59"
          ],
          [
           "-1.90",
           "-1.18",
           "-0.16"
          ],
          [
           "-1.94",
           "-1.35",
           "0.07"
          ],
          [
           "-0.89",
           "-1.39",
           "-0.14"
          ],
          [
           "-1.93",
           "-1.66",
           "-1.66"
          ],
          [
           "-1.79",
           "-1.97",
           "-1.71"
          ]
         ],
         "textfont": {
          "size": 11
         },
         "texttemplate": "%{text}",
         "type": "heatmap",
         "x": [
          "1Y",
          "3Y",
          "5Y"
         ],
         "xaxis": "x",
         "y": [
          "OLGERD",
          "AMRQ",
          "OCS",
          "HAGA",
          "KALD",
          "FESTI",
          "SIMINN",
          "SJOVA",
          "REITIR",
          "ALVO",
          "HAMP",
          "HEIMAR",
          "NOVA",
          "JBTM",
          "SKEL",
          "SKAGI",
          "ARION",
          "ISB",
          "KVIKA",
          "EIK",
          "OMXI15",
          "ICEAIR",
          "EIM",
          "ICESEA",
          "SVN",
          "BRIM",
          "SYN",
          "ISF",
          "PLAY"
         ],
         "yaxis": "y",
         "z": [
          [
           -0.15538152633676153,
           0.5208711921623905,
           0.5467311012970383
          ],
          [
           0.048461446531113894,
           0.40174898869904674,
           0.40174898869904674
          ],
          [
           0.48708376396748343,
           0.30210834411684323,
           0.30210834411684323
          ],
          [
           0.6266585806063353,
           0.21915475012684169,
           0.45534333659020976
          ],
          [
           1.5246992951247145,
           0.12441691320405773,
           0.619459528315887
          ],
          [
           1.4087641783719411,
           0.1165336373648211,
           0.5233324577572795
          ],
          [
           1.2323149737847938,
           0.02282829335425834,
           0.4044147579007769
          ],
          [
           0.48953393405675866,
           -0.06328655227705607,
           0.5055237603291985
          ],
          [
           0.8226640880736048,
           -0.15712702195483302,
           0.3981224438467022
          ],
          [
           -0.9584680035966876,
           -0.16756591615557642,
           -0.3014069651298074
          ],
          [
           -0.2327664659298755,
           -0.20904113470468125,
           0.32302596206876705
          ],
          [
           1.4196012921689736,
           -0.29256507225046074,
           0.46336239250870187
          ],
          [
           1.0431077542737788,
           -0.32453082889494206,
           -0.36006746929371464
          ],
          [
           -0.3305959803982049,
           -0.3305959803982049,
           -0.3305959803982049
          ],
          [
           0.05218886558623025,
           -0.3722720430537891,
           0.3005963508120244
          ],
          [
           0.7024906703895958,
           -0.3769037584984907,
           0.31231289542590934
          ],
          [
           0.8515064390101271,
           -0.378979635679645,
           0.6242762735140669
          ],
          [
           0.5399930268686539,
           -0.4053482532030319,
           0.006946249215929381
          ],
          [
           0.22034875859417738,
           -0.47487592870151546,
           0.20873032661643534
          ],
          [
           0.957636449852254,
           -0.4918165989112539,
           0.3123305269408731
          ],
          [
           0.35406692916502286,
           -0.6166122815273666,
           -0.02458818138126919
          ],
          [
           0.25395519159987645,
           -0.8470070974424835,
           -0.38428964723412945
          ],
          [
           -0.5184904623256772,
           -0.9410368685246949,
           0.47157281063870526
          ],
          [
           -0.22339470027709799,
           -1.0671204270344525,
           -0.5885653910199905
          ],
          [
           -1.9034430186848164,
           -1.1769333551496157,
           -0.16042062534066537
          ],
          [
           -1.944945579480148,
           -1.350616008131898,
           0.07075612766310797
          ],
          [
           -0.8908395125935769,
           -1.393483421532022,
           -0.14328359737198065
          ],
          [
           -1.9329243683882884,
           -1.661769810564028,
           -1.661769810564028
          ],
          [
           -1.7877489598021155,
           -1.9725129317271257,
           -1.707972004102744
          ]
         ]
        }
       ],
       "layout": {
        "coloraxis": {
         "cmax": 1.5246992951247145,
         "cmid": 0,
         "cmin": -1.9725129317271257,
         "colorbar": {
          "title": {
           "text": "Sharpe"
          }
         },
         "colorscale": [
          [
           0,
           "rgb(165,0,38)"
          ],
          [
           0.1,
           "rgb(215,48,39)"
          ],
          [
           0.2,
           "rgb(244,109,67)"
          ],
          [
           0.3,
           "rgb(253,174,97)"
          ],
          [
           0.4,
           "rgb(254,224,139)"
          ],
          [
           0.5,
           "rgb(255,255,191)"
          ],
          [
           0.6,
           "rgb(217,239,139)"
          ],
          [
           0.7,
           "rgb(166,217,106)"
          ],
          [
           0.8,
           "rgb(102,189,99)"
          ],
          [
           0.9,
           "rgb(26,152,80)"
          ],
          [
           1,
           "rgb(0,104,55)"
          ]
         ]
        },
        "height": 696,
        "margin": {
         "b": 30,
         "l": 80,
         "r": 30,
         "t": 60
        },
        "template": {
         "data": {
          "bar": [
           {
            "error_x": {
             "color": "#2a3f5f"
            },
            "error_y": {
             "color": "#2a3f5f"
            },
            "marker": {
             "line": {
              "color": "white",
              "width": 0.5
             },
             "pattern": {
              "fillmode": "overlay",
              "size": 10,
              "solidity": 0.2
             }
            },
            "type": "bar"
           }
          ],
          "barpolar": [
           {
            "marker": {
             "line": {
              "color": "white",
              "width": 0.5
             },
             "pattern": {
              "fillmode": "overlay",
              "size": 10,
              "solidity": 0.2
             }
            },
            "type": "barpolar"
           }
          ],
          "carpet": [
           {
            "aaxis": {
             "endlinecolor": "#2a3f5f",
             "gridcolor": "#C8D4E3",
             "linecolor": "#C8D4E3",
             "minorgridcolor": "#C8D4E3",
             "startlinecolor": "#2a3f5f"
            },
            "baxis": {
             "endlinecolor": "#2a3f5f",
             "gridcolor": "#C8D4E3",
             "linecolor": "#C8D4E3",
             "minorgridcolor": "#C8D4E3",
             "startlinecolor": "#2a3f5f"
            },
            "type": "carpet"
           }
          ],
          "choropleth": [
           {
            "colorbar": {
             "outlinewidth": 0,
             "ticks": ""
            },
            "type": "choropleth"
           }
          ],
          "contour": [
           {
            "colorbar": {
             "outlinewidth": 0,
             "ticks": ""
            },
            "colorscale": [
             [
              0,
              "#0d0887"
             ],
             [
              0.1111111111111111,
              "#46039f"
             ],
             [
              0.2222222222222222,
              "#7201a8"
             ],
             [
              0.3333333333333333,
              "#9c179e"
             ],
             [
              0.4444444444444444,
              "#bd3786"
             ],
             [
              0.5555555555555556,
              "#d8576b"
             ],
             [
              0.6666666666666666,
              "#ed7953"
             ],
             [
              0.7777777777777778,
              "#fb9f3a"
             ],
             [
              0.8888888888888888,
              "#fdca26"
             ],
             [
              1,
              "#f0f921"
             ]
            ],
            "type": "contour"
           }
          ],
          "contourcarpet": [
           {
            "colorbar": {
             "outlinewidth": 0,
             "ticks": ""
            },
            "type": "contourcarpet"
           }
          ],
          "heatmap": [
           {
            "colorbar": {
             "outlinewidth": 0,
             "ticks": ""
            },
            "colorscale": [
             [
              0,
              "#0d0887"
             ],
             [
              0.1111111111111111,
              "#46039f"
             ],
             [
              0.2222222222222222,
              "#7201a8"
             ],
             [
              0.3333333333333333,
              "#9c179e"
             ],
             [
              0.4444444444444444,
              "#bd3786"
             ],
             [
              0.5555555555555556,
              "#d8576b"
             ],
             [
              0.6666666666666666,
              "#ed7953"
             ],
             [
              0.7777777777777778,
              "#fb9f3a"
             ],
             [
              0.8888888888888888,
              "#fdca26"
             ],
             [
              1,
              "#f0f921"
             ]
            ],
            "type": "heatmap"
           }
          ],
          "heatmapgl": [
           {
            "colorbar": {
             "outlinewidth": 0,
             "ticks": ""
            },
            "colorscale": [
             [
              0,
              "#0d0887"
             ],
             [
              0.1111111111111111,
              "#46039f"
             ],
             [
              0.2222222222222222,
              "#7201a8"
             ],
             [
              0.3333333333333333,
              "#9c179e"
             ],
             [
              0.4444444444444444,
              "#bd3786"
             ],
             [
              0.5555555555555556,
              "#d8576b"
             ],
             [
              0.6666666666666666,
              "#ed7953"
             ],
             [
              0.7777777777777778,
              "#fb9f3a"
             ],
             [
              0.8888888888888888,
              "#fdca26"
             ],
             [
              1,
              "#f0f921"
             ]
            ],
            "type": "heatmapgl"
           }
          ],
          "histogram": [
           {
            "marker": {
             "pattern": {
              "fillmode": "overlay",
              "size": 10,
              "solidity": 0.2
             }
            },
            "type": "histogram"
           }
          ],
          "histogram2d": [
           {
            "colorbar": {
             "outlinewidth": 0,
             "ticks": ""
            },
            "colorscale": [
             [
              0,
              "#0d0887"
             ],
             [
              0.1111111111111111,
              "#46039f"
             ],
             [
              0.2222222222222222,
              "#7201a8"
             ],
             [
              0.3333333333333333,
              "#9c179e"
             ],
             [
              0.4444444444444444,
              "#bd3786"
             ],
             [
              0.5555555555555556,
              "#d8576b"
             ],
             [
              0.6666666666666666,
              "#ed7953"
             ],
             [
              0.7777777777777778,
              "#fb9f3a"
             ],
             [
              0.8888888888888888,
              "#fdca26"
             ],
             [
              1,
              "#f0f921"
             ]
            ],
            "type": "histogram2d"
           }
          ],
          "histogram2dcontour": [
           {
            "colorbar": {
             "outlinewidth": 0,
             "ticks": ""
            },
            "colorscale": [
             [
              0,
              "#0d0887"
             ],
             [
              0.1111111111111111,
              "#46039f"
             ],
             [
              0.2222222222222222,
              "#7201a8"
             ],
             [
              0.3333333333333333,
              "#9c179e"
             ],
             [
              0.4444444444444444,
              "#bd3786"
             ],
             [
              0.5555555555555556,
              "#d8576b"
             ],
             [
              0.6666666666666666,
              "#ed7953"
             ],
             [
              0.7777777777777778,
              "#fb9f3a"
             ],
             [
              0.8888888888888888,
              "#fdca26"
             ],
             [
              1,
              "#f0f921"
             ]
            ],
            "type": "histogram2dcontour"
           }
          ],
          "mesh3d": [
           {
            "colorbar": {
             "outlinewidth": 0,
             "ticks": ""
            },
            "type": "mesh3d"
           }
          ],
          "parcoords": [
           {
            "line": {
             "colorbar": {
              "outlinewidth": 0,
              "ticks": ""
             }
            },
            "type": "parcoords"
           }
          ],
          "pie": [
           {
            "automargin": true,
            "type": "pie"
           }
          ],
          "scatter": [
           {
            "fillpattern": {
             "fillmode": "overlay",
             "size": 10,
             "solidity": 0.2
            },
            "type": "scatter"
           }
          ],
          "scatter3d": [
           {
            "line": {
             "colorbar": {
              "outlinewidth": 0,
              "ticks": ""
             }
            },
            "marker": {
             "colorbar": {
              "outlinewidth": 0,
              "ticks": ""
             }
            },
            "type": "scatter3d"
           }
          ],
          "scattercarpet": [
           {
            "marker": {
             "colorbar": {
              "outlinewidth": 0,
              "ticks": ""
             }
            },
            "type": "scattercarpet"
           }
          ],
          "scattergeo": [
           {
            "marker": {
             "colorbar": {
              "outlinewidth": 0,
              "ticks": ""
             }
            },
            "type": "scattergeo"
           }
          ],
          "scattergl": [
           {
            "marker": {
             "colorbar": {
              "outlinewidth": 0,
              "ticks": ""
             }
            },
            "type": "scattergl"
           }
          ],
          "scattermapbox": [
           {
            "marker": {
             "colorbar": {
              "outlinewidth": 0,
              "ticks": ""
             }
            },
            "type": "scattermapbox"
           }
          ],
          "scatterpolar": [
           {
            "marker": {
             "colorbar": {
              "outlinewidth": 0,
              "ticks": ""
             }
            },
            "type": "scatterpolar"
           }
          ],
          "scatterpolargl": [
           {
            "marker": {
             "colorbar": {
              "outlinewidth": 0,
              "ticks": ""
             }
            },
            "type": "scatterpolargl"
           }
          ],
          "scatterternary": [
           {
            "marker": {
             "colorbar": {
              "outlinewidth": 0,
              "ticks": ""
             }
            },
            "type": "scatterternary"
           }
          ],
          "surface": [
           {
            "colorbar": {
             "outlinewidth": 0,
             "ticks": ""
            },
            "colorscale": [
             [
              0,
              "#0d0887"
             ],
             [
              0.1111111111111111,
              "#46039f"
             ],
             [
              0.2222222222222222,
              "#7201a8"
             ],
             [
              0.3333333333333333,
              "#9c179e"
             ],
             [
              0.4444444444444444,
              "#bd3786"
             ],
             [
              0.5555555555555556,
              "#d8576b"
             ],
             [
              0.6666666666666666,
              "#ed7953"
             ],
             [
              0.7777777777777778,
              "#fb9f3a"
             ],
             [
              0.8888888888888888,
              "#fdca26"
             ],
             [
              1,
              "#f0f921"
             ]
            ],
            "type": "surface"
           }
          ],
          "table": [
           {
            "cells": {
             "fill": {
              "color": "#EBF0F8"
             },
             "line": {
              "color": "white"
             }
            },
            "header": {
             "fill": {
              "color": "#C8D4E3"
             },
             "line": {
              "color": "white"
             }
            },
            "type": "table"
           }
          ]
         },
         "layout": {
          "annotationdefaults": {
           "arrowcolor": "#2a3f5f",
           "arrowhead": 0,
           "arrowwidth": 1
          },
          "autotypenumbers": "strict",
          "coloraxis": {
           "colorbar": {
            "outlinewidth": 0,
            "ticks": ""
           }
          },
          "colorscale": {
           "diverging": [
            [
             0,
             "#8e0152"
            ],
            [
             0.1,
             "#c51b7d"
            ],
            [
             0.2,
             "#de77ae"
            ],
            [
             0.3,
             "#f1b6da"
            ],
            [
             0.4,
             "#fde0ef"
            ],
            [
             0.5,
             "#f7f7f7"
            ],
            [
             0.6,
             "#e6f5d0"
            ],
            [
             0.7,
             "#b8e186"
            ],
            [
             0.8,
             "#7fbc41"
            ],
            [
             0.9,
             "#4d9221"
            ],
            [
             1,
             "#276419"
            ]
           ],
           "sequential": [
            [
             0,
             "#0d0887"
            ],
            [
             0.1111111111111111,
             "#46039f"
            ],
            [
             0.2222222222222222,
             "#7201a8"
            ],
            [
             0.3333333333333333,
             "#9c179e"
            ],
            [
             0.4444444444444444,
             "#bd3786"
            ],
            [
             0.5555555555555556,
             "#d8576b"
            ],
            [
             0.6666666666666666,
             "#ed7953"
            ],
            [
             0.7777777777777778,
             "#fb9f3a"
            ],
            [
             0.8888888888888888,
             "#fdca26"
            ],
            [
             1,
             "#f0f921"
            ]
           ],
           "sequentialminus": [
            [
             0,
             "#0d0887"
            ],
            [
             0.1111111111111111,
             "#46039f"
            ],
            [
             0.2222222222222222,
             "#7201a8"
            ],
            [
             0.3333333333333333,
             "#9c179e"
            ],
            [
             0.4444444444444444,
             "#bd3786"
            ],
            [
             0.5555555555555556,
             "#d8576b"
            ],
            [
             0.6666666666666666,
             "#ed7953"
            ],
            [
             0.7777777777777778,
             "#fb9f3a"
            ],
            [
             0.8888888888888888,
             "#fdca26"
            ],
            [
             1,
             "#f0f921"
            ]
           ]
          },
          "colorway": [
           "#636efa",
           "#EF553B",
           "#00cc96",
           "#ab63fa",
           "#FFA15A",
           "#19d3f3",
           "#FF6692",
           "#B6E880",
           "#FF97FF",
           "#FECB52"
          ],
          "font": {
           "color": "#2a3f5f"
          },
          "geo": {
           "bgcolor": "white",
           "lakecolor": "white",
           "landcolor": "white",
           "showlakes": true,
           "showland": true,
           "subunitcolor": "#C8D4E3"
          },
          "hoverlabel": {
           "align": "left"
          },
          "hovermode": "closest",
          "mapbox": {
           "style": "light"
          },
          "paper_bgcolor": "white",
          "plot_bgcolor": "white",
          "polar": {
           "angularaxis": {
            "gridcolor": "#EBF0F8",
            "linecolor": "#EBF0F8",
            "ticks": ""
           },
           "bgcolor": "white",
           "radialaxis": {
            "gridcolor": "#EBF0F8",
            "linecolor": "#EBF0F8",
            "ticks": ""
           }
          },
          "scene": {
           "xaxis": {
            "backgroundcolor": "white",
            "gridcolor": "#DFE8F3",
            "gridwidth": 2,
            "linecolor": "#EBF0F8",
            "showbackground": true,
            "ticks": "",
            "zerolinecolor": "#EBF0F8"
           },
           "yaxis": {
            "backgroundcolor": "white",
            "gridcolor": "#DFE8F3",
            "gridwidth": 2,
            "linecolor": "#EBF0F8",
            "showbackground": true,
            "ticks": "",
            "zerolinecolor": "#EBF0F8"
           },
           "zaxis": {
            "backgroundcolor": "white",
            "gridcolor": "#DFE8F3",
            "gridwidth": 2,
            "linecolor": "#EBF0F8",
            "showbackground": true,
            "ticks": "",
            "zerolinecolor": "#EBF0F8"
           }
          },
          "shapedefaults": {
           "line": {
            "color": "#2a3f5f"
           }
          },
          "ternary": {
           "aaxis": {
            "gridcolor": "#DFE8F3",
            "linecolor": "#A2B1C6",
            "ticks": ""
           },
           "baxis": {
            "gridcolor": "#DFE8F3",
            "linecolor": "#A2B1C6",
            "ticks": ""
           },
           "bgcolor": "white",
           "caxis": {
            "gridcolor": "#DFE8F3",
            "linecolor": "#A2B1C6",
            "ticks": ""
           }
          },
          "title": {
           "x": 0.05
          },
          "xaxis": {
           "automargin": true,
           "gridcolor": "#EBF0F8",
           "linecolor": "#EBF0F8",
           "ticks": "",
           "title": {
            "standoff": 15
           },
           "zerolinecolor": "#EBF0F8",
           "zerolinewidth": 2
          },
          "yaxis": {
           "automargin": true,
           "gridcolor": "#EBF0F8",
           "linecolor": "#EBF0F8",
           "ticks": "",
           "title": {
            "standoff": 15
           },
           "zerolinecolor": "#EBF0F8",
           "zerolinewidth": 2
          }
         }
        },
        "title": {
         "text": "Iceland Equities — Sharpe (log returns, annualized)"
        },
        "width": 700,
        "xaxis": {
         "anchor": "y",
         "domain": [
          0,
          1
         ],
         "title": {
          "text": ""
         }
        },
        "yaxis": {
         "anchor": "x",
         "autorange": "reversed",
         "domain": [
          0,
          1
         ],
         "title": {
          "text": ""
         }
        }
       }
      }
     },
     "metadata": {},
     "output_type": "display_data"
    }
   ],
   "source": [
    "import numpy as np\n",
    "import plotly.io as pio\n",
    "import plotly.express as px\n",
    "\n",
    "hm = sharpe_df[['1Y','3Y','5Y']].astype(float)\n",
    "\n",
    "# sort if you want\n",
    "hm = hm.sort_values('3Y', ascending=False)\n",
    "\n",
    "fig = px.imshow(\n",
    "    hm.values,\n",
    "    x=hm.columns, y=hm.index,\n",
    "    color_continuous_scale=\"RdYlGn\",\n",
    "    zmin=np.nanmin(hm.values), \n",
    "    zmax=np.nanmax(hm.values),\n",
    "    aspect=\"auto\"\n",
    ")\n",
    "\n",
    "# center scale at 0 explicitly\n",
    "fig.update_coloraxes(cmid=0)\n",
    "\n",
    "# Add annotations inside cells\n",
    "text = [[f\"{v:.2f}\" if np.isfinite(v) else \"\" for v in row] for row in hm.values]\n",
    "fig.update_traces(text=text, texttemplate=\"%{text}\", textfont=dict(size=11))\n",
    "\n",
    "fig.update_layout(\n",
    "    title=\"Iceland Equities — Sharpe (log returns, annualized)\",\n",
    "    xaxis_title=\"\", yaxis_title=\"\",\n",
    "    coloraxis_colorbar=dict(title=\"Sharpe\"),\n",
    "    template=\"plotly_white\",\n",
    "    margin=dict(l=80, r=30, t=60, b=30),\n",
    "    width=700, height=max(300, 24*len(hm))\n",
    ")\n",
    "\n",
    "# Hover\n",
    "fig.update_traces(\n",
    "    hovertemplate=\"<b>%{y}</b><br>%{x}: %{z:.2f}<extra></extra>\"\n",
    ")\n",
    "\n",
    "fig.show()\n",
    "pio.write_json(fig, \"../docs/data/sharpe/fig_sharpe_window.json\")\n"
   ]
  },
  {
   "cell_type": "code",
   "execution_count": 37,
   "metadata": {},
   "outputs": [
    {
     "name": "stdout",
     "output_type": "stream",
     "text": [
      "        composite_rank        1Y        3Y        5Y   obs  cum_return\n",
      "ticker                                                                \n",
      "KALD          0.942529  1.524699  0.124417  0.619460  1488    1.415842\n",
      "FESTI         0.885057  1.408764  0.116534  0.523332  2491    6.068558\n",
      "SIMINN        0.804598  1.232315  0.022828  0.404415  2453    2.724928\n",
      "HEIMAR        0.793103  1.419601 -0.292565  0.463362  2491    1.311361\n",
      "HAGA          0.781609  0.626659  0.219155  0.455343  2491    1.728443\n",
      "OLGERD        0.770115 -0.155382  0.520871  0.546731   798    0.821822\n",
      "ARION         0.747126  0.851506 -0.378980  0.624276  1788    0.981982\n",
      "SJOVA         0.747126  0.489534 -0.063287  0.505524  2491    2.604938\n",
      "REITIR        0.712644  0.822664 -0.157127  0.398122  2491    0.548798\n",
      "AMRQ          0.689655  0.048461  0.401749  0.401749   697    0.775591\n",
      "Saved -> sharpe_composite_rank.csv\n"
     ]
    }
   ],
   "source": [
    "def pct_rank(col): return col.rank(pct=True)\n",
    "ranks = hm.apply(pct_rank)                 # percentile within each column\n",
    "composite = ranks.mean(axis=1).sort_values(ascending=False)\n",
    "rank_table = (pd.DataFrame({\n",
    "    'composite_rank': composite,\n",
    "    '1Y': hm['1Y'], '3Y': hm['3Y'], '5Y': hm['5Y'],\n",
    "    'obs': sharpe_df['obs'], 'cum_return': sharpe_df['cum_return']\n",
    "}).sort_values('composite_rank', ascending=False))\n",
    "\n",
    "rank_table.to_csv(\"sharpe_composite_rank.csv\")\n",
    "print(rank_table.head(10))\n",
    "print(\"Saved -> sharpe_composite_rank.csv\")\n"
   ]
  },
  {
   "cell_type": "code",
   "execution_count": 38,
   "metadata": {},
   "outputs": [
    {
     "data": {
      "application/vnd.plotly.v1+json": {
       "config": {
        "plotlyServerURL": "https://plot.ly"
       },
       "data": [
        {
         "alignmentgroup": "True",
         "cliponaxis": false,
         "customdata": [
          [
           -1.9329243683882884,
           -1.661769810564028,
           -1.661769810564028,
           418,
           -0.273947528981086
          ],
          [
           -1.7877489598021155,
           -1.9725129317271257,
           -1.707972004102744,
           1028,
           -0.9800000000000001
          ],
          [
           -1.9034430186848164,
           -1.1769333551496157,
           -0.16042062534066537,
           1058,
           0.14263803680981257
          ],
          [
           -1.944945579480148,
           -1.350616008131898,
           0.07075612766310797,
           2491,
           0.5394566623544559
          ],
          [
           -0.8908395125935769,
           -1.393483421532022,
           -0.14328359737198065,
           2491,
           -0.3853541416566627
          ],
          [
           -0.22339470027709799,
           -1.0671204270344525,
           -0.5885653910199905,
           2304,
           -0.06422018348623759
          ],
          [
           0.25395519159987645,
           -0.8470070974424835,
           -0.38428964723412945,
           2491,
           -0.962062615101289
          ],
          [
           -0.3305959803982049,
           -0.3305959803982049,
           -0.3305959803982049,
           155,
           -0.050000000000000155
          ],
          [
           -0.9584680035966876,
           -0.16756591615557642,
           -0.3014069651298074,
           788,
           -0.23048048048048164
          ],
          [
           0.35406692916502286,
           -0.6166122815273666,
           -0.02458818138126919,
           2473,
           0.6773601847101058
          ],
          [
           0.22034875859417738,
           -0.47487592870151546,
           0.20873032661643534,
           1846,
           1.2658227848101329
          ],
          [
           -0.5184904623256772,
           -0.9410368685246949,
           0.47157281063870526,
           2491,
           0.5367965367965353
          ],
          [
           0.5399930268686539,
           -0.4053482532030319,
           0.006946249215929381,
           1041,
           0.31078224101479757
          ],
          [
           0.05218886558623025,
           -0.3722720430537891,
           0.3005963508120244,
           2164,
           1.3913043478260785
          ],
          [
           -0.2327664659298755,
           -0.20904113470468125,
           0.32302596206876705,
           2491,
           3.629629629629621
          ],
          [
           1.0431077542737788,
           -0.32453082889494206,
           -0.36006746929371464,
           791,
           0.05399568034557101
          ],
          [
           0.7024906703895958,
           -0.3769037584984907,
           0.31231289542590934,
           2491,
           1.226107226107224
          ],
          [
           0.957636449852254,
           -0.4918165989112539,
           0.3123305269408731,
           2491,
           0.9285714285714313
          ],
          [
           0.48708376396748343,
           0.30210834411684323,
           0.30210834411684323,
           327,
           0.28402366863905204
          ],
          [
           0.048461446531113894,
           0.40174898869904674,
           0.40174898869904674,
           697,
           0.7755905511811036
          ],
          [
           0.8226640880736048,
           -0.15712702195483302,
           0.3981224438467022,
           2491,
           0.5487984140304205
          ],
          [
           0.48953393405675866,
           -0.06328655227705607,
           0.5055237603291985,
           2491,
           2.604938271604932
          ],
          [
           0.8515064390101271,
           -0.378979635679645,
           0.6242762735140669,
           1788,
           0.9819819819819875
          ],
          [
           -0.15538152633676153,
           0.5208711921623905,
           0.5467311012970383,
           798,
           0.8218218218218198
          ],
          [
           0.6266585806063353,
           0.21915475012684169,
           0.45534333659020976,
           2491,
           1.7284427284427224
          ],
          [
           1.4196012921689736,
           -0.29256507225046074,
           0.46336239250870187,
           2491,
           1.3113605913019226
          ],
          [
           1.2323149737847938,
           0.02282829335425834,
           0.4044147579007769,
           2453,
           2.724928366762183
          ],
          [
           1.4087641783719411,
           0.1165336373648211,
           0.5233324577572795,
           2491,
           6.068557919621728
          ],
          [
           1.5246992951247145,
           0.12441691320405773,
           0.619459528315887,
           1488,
           1.4158415841584184
          ]
         ],
         "hovertemplate": "Composite Sharpe Percentile=%{marker.color:.2f}<br>ticker=%{y}<br>1Y=%{customdata[0]:.2f}<br>3Y=%{customdata[1]:.2f}<br>5Y=%{customdata[2]:.2f}<br>obs=%{customdata[3]}<br>cum_return=%{customdata[4]:.2f}<extra></extra>",
         "legendgroup": "",
         "marker": {
          "color": [
           0.06896551724137931,
           0.06896551724137932,
           0.1839080459770115,
           0.19540229885057472,
           0.20689655172413793,
           0.21839080459770113,
           0.3103448275862069,
           0.3448275862068966,
           0.367816091954023,
           0.40229885057471265,
           0.43678160919540227,
           0.43678160919540227,
           0.4827586206896551,
           0.4827586206896552,
           0.5287356321839081,
           0.5402298850574713,
           0.5862068965517241,
           0.5862068965517242,
           0.6781609195402298,
           0.6896551724137931,
           0.7126436781609197,
           0.7471264367816092,
           0.7471264367816092,
           0.7701149425287356,
           0.7816091954022989,
           0.7931034482758621,
           0.8045977011494253,
           0.8850574712643677,
           0.9425287356321839
          ],
          "coloraxis": "coloraxis",
          "pattern": {
           "shape": ""
          }
         },
         "name": "",
         "offsetgroup": "",
         "orientation": "h",
         "showlegend": false,
         "text": [
          "7%",
          "7%",
          "18%",
          "20%",
          "21%",
          "22%",
          "31%",
          "34%",
          "37%",
          "40%",
          "44%",
          "44%",
          "48%",
          "48%",
          "53%",
          "54%",
          "59%",
          "59%",
          "68%",
          "69%",
          "71%",
          "75%",
          "75%",
          "77%",
          "78%",
          "79%",
          "80%",
          "89%",
          "94%"
         ],
         "textposition": "outside",
         "type": "bar",
         "x": [
          0.06896551724137931,
          0.06896551724137932,
          0.1839080459770115,
          0.19540229885057472,
          0.20689655172413793,
          0.21839080459770113,
          0.3103448275862069,
          0.3448275862068966,
          0.367816091954023,
          0.40229885057471265,
          0.43678160919540227,
          0.43678160919540227,
          0.4827586206896551,
          0.4827586206896552,
          0.5287356321839081,
          0.5402298850574713,
          0.5862068965517241,
          0.5862068965517242,
          0.6781609195402298,
          0.6896551724137931,
          0.7126436781609197,
          0.7471264367816092,
          0.7471264367816092,
          0.7701149425287356,
          0.7816091954022989,
          0.7931034482758621,
          0.8045977011494253,
          0.8850574712643677,
          0.9425287356321839
         ],
         "xaxis": "x",
         "y": [
          "ISF",
          "PLAY",
          "SVN",
          "BRIM",
          "SYN",
          "ICESEA",
          "ICEAIR",
          "JBTM",
          "ALVO",
          "OMXI15",
          "KVIKA",
          "EIM",
          "ISB",
          "SKEL",
          "HAMP",
          "NOVA",
          "SKAGI",
          "EIK",
          "OCS",
          "AMRQ",
          "REITIR",
          "SJOVA",
          "ARION",
          "OLGERD",
          "HAGA",
          "HEIMAR",
          "SIMINN",
          "FESTI",
          "KALD"
         ],
         "yaxis": "y"
        }
       ],
       "layout": {
        "barmode": "relative",
        "coloraxis": {
         "colorbar": {
          "title": {
           "text": "Composite<br>Percentile"
          }
         },
         "colorscale": [
          [
           0,
           "rgb(165,0,38)"
          ],
          [
           0.1,
           "rgb(215,48,39)"
          ],
          [
           0.2,
           "rgb(244,109,67)"
          ],
          [
           0.3,
           "rgb(253,174,97)"
          ],
          [
           0.4,
           "rgb(254,224,139)"
          ],
          [
           0.5,
           "rgb(255,255,191)"
          ],
          [
           0.6,
           "rgb(217,239,139)"
          ],
          [
           0.7,
           "rgb(166,217,106)"
          ],
          [
           0.8,
           "rgb(102,189,99)"
          ],
          [
           0.9,
           "rgb(26,152,80)"
          ],
          [
           1,
           "rgb(0,104,55)"
          ]
         ]
        },
        "height": 812,
        "legend": {
         "tracegroupgap": 0
        },
        "margin": {
         "b": 40,
         "l": 110,
         "r": 40,
         "t": 70
        },
        "template": {
         "data": {
          "bar": [
           {
            "error_x": {
             "color": "#2a3f5f"
            },
            "error_y": {
             "color": "#2a3f5f"
            },
            "marker": {
             "line": {
              "color": "white",
              "width": 0.5
             },
             "pattern": {
              "fillmode": "overlay",
              "size": 10,
              "solidity": 0.2
             }
            },
            "type": "bar"
           }
          ],
          "barpolar": [
           {
            "marker": {
             "line": {
              "color": "white",
              "width": 0.5
             },
             "pattern": {
              "fillmode": "overlay",
              "size": 10,
              "solidity": 0.2
             }
            },
            "type": "barpolar"
           }
          ],
          "carpet": [
           {
            "aaxis": {
             "endlinecolor": "#2a3f5f",
             "gridcolor": "#C8D4E3",
             "linecolor": "#C8D4E3",
             "minorgridcolor": "#C8D4E3",
             "startlinecolor": "#2a3f5f"
            },
            "baxis": {
             "endlinecolor": "#2a3f5f",
             "gridcolor": "#C8D4E3",
             "linecolor": "#C8D4E3",
             "minorgridcolor": "#C8D4E3",
             "startlinecolor": "#2a3f5f"
            },
            "type": "carpet"
           }
          ],
          "choropleth": [
           {
            "colorbar": {
             "outlinewidth": 0,
             "ticks": ""
            },
            "type": "choropleth"
           }
          ],
          "contour": [
           {
            "colorbar": {
             "outlinewidth": 0,
             "ticks": ""
            },
            "colorscale": [
             [
              0,
              "#0d0887"
             ],
             [
              0.1111111111111111,
              "#46039f"
             ],
             [
              0.2222222222222222,
              "#7201a8"
             ],
             [
              0.3333333333333333,
              "#9c179e"
             ],
             [
              0.4444444444444444,
              "#bd3786"
             ],
             [
              0.5555555555555556,
              "#d8576b"
             ],
             [
              0.6666666666666666,
              "#ed7953"
             ],
             [
              0.7777777777777778,
              "#fb9f3a"
             ],
             [
              0.8888888888888888,
              "#fdca26"
             ],
             [
              1,
              "#f0f921"
             ]
            ],
            "type": "contour"
           }
          ],
          "contourcarpet": [
           {
            "colorbar": {
             "outlinewidth": 0,
             "ticks": ""
            },
            "type": "contourcarpet"
           }
          ],
          "heatmap": [
           {
            "colorbar": {
             "outlinewidth": 0,
             "ticks": ""
            },
            "colorscale": [
             [
              0,
              "#0d0887"
             ],
             [
              0.1111111111111111,
              "#46039f"
             ],
             [
              0.2222222222222222,
              "#7201a8"
             ],
             [
              0.3333333333333333,
              "#9c179e"
             ],
             [
              0.4444444444444444,
              "#bd3786"
             ],
             [
              0.5555555555555556,
              "#d8576b"
             ],
             [
              0.6666666666666666,
              "#ed7953"
             ],
             [
              0.7777777777777778,
              "#fb9f3a"
             ],
             [
              0.8888888888888888,
              "#fdca26"
             ],
             [
              1,
              "#f0f921"
             ]
            ],
            "type": "heatmap"
           }
          ],
          "heatmapgl": [
           {
            "colorbar": {
             "outlinewidth": 0,
             "ticks": ""
            },
            "colorscale": [
             [
              0,
              "#0d0887"
             ],
             [
              0.1111111111111111,
              "#46039f"
             ],
             [
              0.2222222222222222,
              "#7201a8"
             ],
             [
              0.3333333333333333,
              "#9c179e"
             ],
             [
              0.4444444444444444,
              "#bd3786"
             ],
             [
              0.5555555555555556,
              "#d8576b"
             ],
             [
              0.6666666666666666,
              "#ed7953"
             ],
             [
              0.7777777777777778,
              "#fb9f3a"
             ],
             [
              0.8888888888888888,
              "#fdca26"
             ],
             [
              1,
              "#f0f921"
             ]
            ],
            "type": "heatmapgl"
           }
          ],
          "histogram": [
           {
            "marker": {
             "pattern": {
              "fillmode": "overlay",
              "size": 10,
              "solidity": 0.2
             }
            },
            "type": "histogram"
           }
          ],
          "histogram2d": [
           {
            "colorbar": {
             "outlinewidth": 0,
             "ticks": ""
            },
            "colorscale": [
             [
              0,
              "#0d0887"
             ],
             [
              0.1111111111111111,
              "#46039f"
             ],
             [
              0.2222222222222222,
              "#7201a8"
             ],
             [
              0.3333333333333333,
              "#9c179e"
             ],
             [
              0.4444444444444444,
              "#bd3786"
             ],
             [
              0.5555555555555556,
              "#d8576b"
             ],
             [
              0.6666666666666666,
              "#ed7953"
             ],
             [
              0.7777777777777778,
              "#fb9f3a"
             ],
             [
              0.8888888888888888,
              "#fdca26"
             ],
             [
              1,
              "#f0f921"
             ]
            ],
            "type": "histogram2d"
           }
          ],
          "histogram2dcontour": [
           {
            "colorbar": {
             "outlinewidth": 0,
             "ticks": ""
            },
            "colorscale": [
             [
              0,
              "#0d0887"
             ],
             [
              0.1111111111111111,
              "#46039f"
             ],
             [
              0.2222222222222222,
              "#7201a8"
             ],
             [
              0.3333333333333333,
              "#9c179e"
             ],
             [
              0.4444444444444444,
              "#bd3786"
             ],
             [
              0.5555555555555556,
              "#d8576b"
             ],
             [
              0.6666666666666666,
              "#ed7953"
             ],
             [
              0.7777777777777778,
              "#fb9f3a"
             ],
             [
              0.8888888888888888,
              "#fdca26"
             ],
             [
              1,
              "#f0f921"
             ]
            ],
            "type": "histogram2dcontour"
           }
          ],
          "mesh3d": [
           {
            "colorbar": {
             "outlinewidth": 0,
             "ticks": ""
            },
            "type": "mesh3d"
           }
          ],
          "parcoords": [
           {
            "line": {
             "colorbar": {
              "outlinewidth": 0,
              "ticks": ""
             }
            },
            "type": "parcoords"
           }
          ],
          "pie": [
           {
            "automargin": true,
            "type": "pie"
           }
          ],
          "scatter": [
           {
            "fillpattern": {
             "fillmode": "overlay",
             "size": 10,
             "solidity": 0.2
            },
            "type": "scatter"
           }
          ],
          "scatter3d": [
           {
            "line": {
             "colorbar": {
              "outlinewidth": 0,
              "ticks": ""
             }
            },
            "marker": {
             "colorbar": {
              "outlinewidth": 0,
              "ticks": ""
             }
            },
            "type": "scatter3d"
           }
          ],
          "scattercarpet": [
           {
            "marker": {
             "colorbar": {
              "outlinewidth": 0,
              "ticks": ""
             }
            },
            "type": "scattercarpet"
           }
          ],
          "scattergeo": [
           {
            "marker": {
             "colorbar": {
              "outlinewidth": 0,
              "ticks": ""
             }
            },
            "type": "scattergeo"
           }
          ],
          "scattergl": [
           {
            "marker": {
             "colorbar": {
              "outlinewidth": 0,
              "ticks": ""
             }
            },
            "type": "scattergl"
           }
          ],
          "scattermapbox": [
           {
            "marker": {
             "colorbar": {
              "outlinewidth": 0,
              "ticks": ""
             }
            },
            "type": "scattermapbox"
           }
          ],
          "scatterpolar": [
           {
            "marker": {
             "colorbar": {
              "outlinewidth": 0,
              "ticks": ""
             }
            },
            "type": "scatterpolar"
           }
          ],
          "scatterpolargl": [
           {
            "marker": {
             "colorbar": {
              "outlinewidth": 0,
              "ticks": ""
             }
            },
            "type": "scatterpolargl"
           }
          ],
          "scatterternary": [
           {
            "marker": {
             "colorbar": {
              "outlinewidth": 0,
              "ticks": ""
             }
            },
            "type": "scatterternary"
           }
          ],
          "surface": [
           {
            "colorbar": {
             "outlinewidth": 0,
             "ticks": ""
            },
            "colorscale": [
             [
              0,
              "#0d0887"
             ],
             [
              0.1111111111111111,
              "#46039f"
             ],
             [
              0.2222222222222222,
              "#7201a8"
             ],
             [
              0.3333333333333333,
              "#9c179e"
             ],
             [
              0.4444444444444444,
              "#bd3786"
             ],
             [
              0.5555555555555556,
              "#d8576b"
             ],
             [
              0.6666666666666666,
              "#ed7953"
             ],
             [
              0.7777777777777778,
              "#fb9f3a"
             ],
             [
              0.8888888888888888,
              "#fdca26"
             ],
             [
              1,
              "#f0f921"
             ]
            ],
            "type": "surface"
           }
          ],
          "table": [
           {
            "cells": {
             "fill": {
              "color": "#EBF0F8"
             },
             "line": {
              "color": "white"
             }
            },
            "header": {
             "fill": {
              "color": "#C8D4E3"
             },
             "line": {
              "color": "white"
             }
            },
            "type": "table"
           }
          ]
         },
         "layout": {
          "annotationdefaults": {
           "arrowcolor": "#2a3f5f",
           "arrowhead": 0,
           "arrowwidth": 1
          },
          "autotypenumbers": "strict",
          "coloraxis": {
           "colorbar": {
            "outlinewidth": 0,
            "ticks": ""
           }
          },
          "colorscale": {
           "diverging": [
            [
             0,
             "#8e0152"
            ],
            [
             0.1,
             "#c51b7d"
            ],
            [
             0.2,
             "#de77ae"
            ],
            [
             0.3,
             "#f1b6da"
            ],
            [
             0.4,
             "#fde0ef"
            ],
            [
             0.5,
             "#f7f7f7"
            ],
            [
             0.6,
             "#e6f5d0"
            ],
            [
             0.7,
             "#b8e186"
            ],
            [
             0.8,
             "#7fbc41"
            ],
            [
             0.9,
             "#4d9221"
            ],
            [
             1,
             "#276419"
            ]
           ],
           "sequential": [
            [
             0,
             "#0d0887"
            ],
            [
             0.1111111111111111,
             "#46039f"
            ],
            [
             0.2222222222222222,
             "#7201a8"
            ],
            [
             0.3333333333333333,
             "#9c179e"
            ],
            [
             0.4444444444444444,
             "#bd3786"
            ],
            [
             0.5555555555555556,
             "#d8576b"
            ],
            [
             0.6666666666666666,
             "#ed7953"
            ],
            [
             0.7777777777777778,
             "#fb9f3a"
            ],
            [
             0.8888888888888888,
             "#fdca26"
            ],
            [
             1,
             "#f0f921"
            ]
           ],
           "sequentialminus": [
            [
             0,
             "#0d0887"
            ],
            [
             0.1111111111111111,
             "#46039f"
            ],
            [
             0.2222222222222222,
             "#7201a8"
            ],
            [
             0.3333333333333333,
             "#9c179e"
            ],
            [
             0.4444444444444444,
             "#bd3786"
            ],
            [
             0.5555555555555556,
             "#d8576b"
            ],
            [
             0.6666666666666666,
             "#ed7953"
            ],
            [
             0.7777777777777778,
             "#fb9f3a"
            ],
            [
             0.8888888888888888,
             "#fdca26"
            ],
            [
             1,
             "#f0f921"
            ]
           ]
          },
          "colorway": [
           "#636efa",
           "#EF553B",
           "#00cc96",
           "#ab63fa",
           "#FFA15A",
           "#19d3f3",
           "#FF6692",
           "#B6E880",
           "#FF97FF",
           "#FECB52"
          ],
          "font": {
           "color": "#2a3f5f"
          },
          "geo": {
           "bgcolor": "white",
           "lakecolor": "white",
           "landcolor": "white",
           "showlakes": true,
           "showland": true,
           "subunitcolor": "#C8D4E3"
          },
          "hoverlabel": {
           "align": "left"
          },
          "hovermode": "closest",
          "mapbox": {
           "style": "light"
          },
          "paper_bgcolor": "white",
          "plot_bgcolor": "white",
          "polar": {
           "angularaxis": {
            "gridcolor": "#EBF0F8",
            "linecolor": "#EBF0F8",
            "ticks": ""
           },
           "bgcolor": "white",
           "radialaxis": {
            "gridcolor": "#EBF0F8",
            "linecolor": "#EBF0F8",
            "ticks": ""
           }
          },
          "scene": {
           "xaxis": {
            "backgroundcolor": "white",
            "gridcolor": "#DFE8F3",
            "gridwidth": 2,
            "linecolor": "#EBF0F8",
            "showbackground": true,
            "ticks": "",
            "zerolinecolor": "#EBF0F8"
           },
           "yaxis": {
            "backgroundcolor": "white",
            "gridcolor": "#DFE8F3",
            "gridwidth": 2,
            "linecolor": "#EBF0F8",
            "showbackground": true,
            "ticks": "",
            "zerolinecolor": "#EBF0F8"
           },
           "zaxis": {
            "backgroundcolor": "white",
            "gridcolor": "#DFE8F3",
            "gridwidth": 2,
            "linecolor": "#EBF0F8",
            "showbackground": true,
            "ticks": "",
            "zerolinecolor": "#EBF0F8"
           }
          },
          "shapedefaults": {
           "line": {
            "color": "#2a3f5f"
           }
          },
          "ternary": {
           "aaxis": {
            "gridcolor": "#DFE8F3",
            "linecolor": "#A2B1C6",
            "ticks": ""
           },
           "baxis": {
            "gridcolor": "#DFE8F3",
            "linecolor": "#A2B1C6",
            "ticks": ""
           },
           "bgcolor": "white",
           "caxis": {
            "gridcolor": "#DFE8F3",
            "linecolor": "#A2B1C6",
            "ticks": ""
           }
          },
          "title": {
           "x": 0.05
          },
          "xaxis": {
           "automargin": true,
           "gridcolor": "#EBF0F8",
           "linecolor": "#EBF0F8",
           "ticks": "",
           "title": {
            "standoff": 15
           },
           "zerolinecolor": "#EBF0F8",
           "zerolinewidth": 2
          },
          "yaxis": {
           "automargin": true,
           "gridcolor": "#EBF0F8",
           "linecolor": "#EBF0F8",
           "ticks": "",
           "title": {
            "standoff": 15
           },
           "zerolinecolor": "#EBF0F8",
           "zerolinewidth": 2
          }
         }
        },
        "title": {
         "text": "Iceland Equities — Composite Sharpe Leaderboard (1Y/3Y/5Y)"
        },
        "xaxis": {
         "anchor": "y",
         "domain": [
          0,
          1
         ],
         "range": [
          0,
          1
         ],
         "tickformat": ".0%",
         "title": {
          "text": "Composite Sharpe Percentile"
         }
        },
        "yaxis": {
         "anchor": "x",
         "domain": [
          0,
          1
         ],
         "title": {
          "text": "ticker"
         }
        }
       }
      }
     },
     "metadata": {},
     "output_type": "display_data"
    }
   ],
   "source": [
    "import numpy as np\n",
    "import pandas as pd\n",
    "import plotly.express as px\n",
    "\n",
    "# rank_table from your code (index=ticker), with columns:\n",
    "# ['composite_rank','1Y','3Y','5Y','obs','cum_return']\n",
    "\n",
    "tbl = rank_table.copy().reset_index().rename(columns={\"index\":\"ticker\"})\n",
    "\n",
    "fig = px.bar(\n",
    "    tbl.sort_values(\"composite_rank\", ascending=True),   # plot bottom→top then flip\n",
    "    x=\"composite_rank\",\n",
    "    y=\"ticker\",\n",
    "    color=\"composite_rank\",\n",
    "    color_continuous_scale=\"RdYlGn\",   # green = better\n",
    "    orientation=\"h\",\n",
    "    hover_data={\n",
    "        \"ticker\": True,\n",
    "        \"composite_rank\": \":.2f\",\n",
    "        \"1Y\": \":.2f\",\n",
    "        \"3Y\": \":.2f\",\n",
    "        \"5Y\": \":.2f\",\n",
    "        \"obs\": True,\n",
    "        \"cum_return\": \":.2f\"\n",
    "    },\n",
    "    labels={\"composite_rank\":\"Composite Sharpe Percentile\"},\n",
    "    title=\"Iceland Equities — Composite Sharpe Leaderboard (1Y/3Y/5Y)\"\n",
    ")\n",
    "\n",
    "# nicer formatting\n",
    "fig.update_layout(\n",
    "    template=\"plotly_white\",\n",
    "    xaxis=dict(range=[0, 1], tickformat=\".0%\"),\n",
    "    coloraxis_colorbar=dict(title=\"Composite<br>Percentile\"),\n",
    "    margin=dict(l=110, r=40, t=70, b=40),\n",
    "    height=max(420, 28*len(tbl))  # auto-height\n",
    ")\n",
    "\n",
    "# show % labels on bars (optional)\n",
    "fig.update_traces(\n",
    "    text=tbl.sort_values(\"composite_rank\", ascending=True)[\"composite_rank\"].map(lambda v: f\"{v:.0%}\"),\n",
    "    textposition=\"outside\",\n",
    "    cliponaxis=False\n",
    ")\n",
    "\n",
    "fig.show()\n",
    "pio.write_json(fig, \"../docs/data/sharpe/fig_sharpe_ranked.json\")"
   ]
  },
  {
   "cell_type": "code",
   "execution_count": 39,
   "metadata": {},
   "outputs": [
    {
     "name": "stdout",
     "output_type": "stream",
     "text": [
      "Skipping sharpe_heatmap_table.csv: None\n",
      "Skipping sharpe_composite_rank.csv: None\n",
      "            KVIKA    ALVO    AMRQ  NOVA    EIM   SYN  SJOVA   HAGA   EIK  \\\n",
      "date                                                                       \n",
      "2025-08-15   17.9  1025.0  118.00  4.94  362.0  26.2   43.8  106.0  13.8   \n",
      "2025-08-18   18.1  1080.0  116.00  4.92  362.0  26.2   43.8  108.0  13.8   \n",
      "2025-08-19   17.9  1070.0  114.75  4.93  356.0  25.8   43.9  106.0  13.6   \n",
      "2025-08-20   17.8  1025.0  114.00  4.92  353.0  25.6   43.8  105.0  13.6   \n",
      "2025-08-21   17.9     NaN  112.75  4.88  355.0  25.6   43.8  106.0  13.5   \n",
      "\n",
      "            HEIMAR  ...  BRIM  FESTI    ISF  KALD   OMXI15  ICEAIR     JBTM  \\\n",
      "date                ...                                                       \n",
      "2025-08-15    36.8  ...  60.0  300.0  122.0  24.6  2634.21  1.0450  17000.0   \n",
      "2025-08-18    36.8  ...  59.5  296.0  121.0  24.2  2642.65  1.0500  17000.0   \n",
      "2025-08-19    36.4  ...  59.5  298.0  120.0  24.0  2630.44  1.0475  17300.0   \n",
      "2025-08-20    36.2  ...  59.5  298.0  120.0  24.0  2613.53  1.0350  16900.0   \n",
      "2025-08-21    36.4  ...  59.5  299.0  119.0  24.4  2615.34  1.0300  17100.0   \n",
      "\n",
      "             SVN  OLGERD     ISB  \n",
      "date                              \n",
      "2025-08-15  75.0    18.5  126.25  \n",
      "2025-08-18  75.0    18.6  125.50  \n",
      "2025-08-19  75.0    18.4  125.50  \n",
      "2025-08-20  74.0    18.2  125.00  \n",
      "2025-08-21  74.5    18.2  124.00  \n",
      "\n",
      "[5 rows x 29 columns]\n"
     ]
    }
   ],
   "source": [
    "from pathlib import Path\n",
    "import pandas as pd\n",
    "import numpy as np\n",
    "\n",
    "DATA_DIR = Path(\"../data/market_data/market\")  # or your folder path with all CSVs\n",
    "\n",
    "def load_nasdaq_iceland_csv(path):\n",
    "    import io\n",
    "    with open(path, \"r\", encoding=\"latin1\") as f:\n",
    "        first = f.readline().strip()\n",
    "        rest = f.read()\n",
    "    if first.lower().startswith(\"sep=\") and len(first) == 5:\n",
    "        sep = first[-1]; raw = rest\n",
    "    else:\n",
    "        sep = None; raw = first + \"\\n\" + rest\n",
    "\n",
    "    df = pd.read_csv(io.StringIO(raw), sep=sep, engine=\"python\")\n",
    "    df.columns = [c.strip() for c in df.columns]\n",
    "    df = df.rename(columns={c:c.lower() for c in df.columns})\n",
    "    date_col = \"date\"\n",
    "    close_candidates = [\"closing price\",\"close\",\"closing\",\"lokaverð\",\"loka verð\",\"loka verd\"]\n",
    "    close_col = next((c for c in df.columns if c in close_candidates), None)\n",
    "    s = (df[close_col].astype(str)\n",
    "         .str.replace(\"\\u00A0\",\"\",regex=False)\n",
    "         .str.replace(\" \",\"\",regex=False)\n",
    "         .str.replace(\",\",\"\",regex=False))\n",
    "    df[\"close\"] = pd.to_numeric(s, errors=\"coerce\")\n",
    "    df[\"date\"] = pd.to_datetime(df[date_col], errors=\"coerce\")\n",
    "    df = df.dropna(subset=[\"date\",\"close\"]).sort_values(\"date\")\n",
    "    return df.set_index(\"date\")[\"close\"]\n",
    "\n",
    "# ---- Build a wide close-price DataFrame ----\n",
    "closes = pd.DataFrame()\n",
    "for csv_path in DATA_DIR.glob(\"*.csv\"):\n",
    "    try:\n",
    "        series = load_nasdaq_iceland_csv(csv_path)\n",
    "        closes[csv_path.stem.upper()] = series\n",
    "    except Exception as e:\n",
    "        print(f\"Skipping {csv_path.name}: {e}\")\n",
    "\n",
    "print(closes.tail())\n"
   ]
  },
  {
   "cell_type": "code",
   "execution_count": 40,
   "metadata": {},
   "outputs": [
    {
     "data": {
      "application/vnd.plotly.v1+json": {
       "config": {
        "plotlyServerURL": "https://plot.ly"
       },
       "data": [
        {
         "hovertemplate": "<b>%{text}</b><br>Vol: %{x:.2%}<br>Ret: %{y:.2%}<br>Sharpe: %{marker.color:.2f}<extra></extra>",
         "marker": {
          "color": [
           0.4179550807142049,
           -0.8338597205626291,
           0.23620623728529566,
           1.482802029951765,
           -0.22366419818388422,
           -0.6933498213220805,
           0.8466338665649041,
           0.9411269847323056,
           1.280851111584704,
           1.792656540759528,
           -1.6942158661013027,
           1.043676097026142,
           1.5922503328604376,
           0.08466129931573815,
           0.10240025153782832,
           1.1918889404956854,
           0.6676867830964166,
           1.1648043827439978,
           0.3584260283573518,
           -1.4567448746284004,
           1.756607831202023,
           -1.5207764411855373,
           1.9244466244246665,
           0.7833317462933729,
           0.44633012667553235,
           -1.472207408523707,
           0.22673177531146937,
           0.8686111115600988
          ],
          "colorbar": {
           "title": {
            "text": "Sharpe"
           }
          },
          "colorscale": [
           [
            0,
            "rgb(165,0,38)"
           ],
           [
            0.1,
            "rgb(215,48,39)"
           ],
           [
            0.2,
            "rgb(244,109,67)"
           ],
           [
            0.3,
            "rgb(253,174,97)"
           ],
           [
            0.4,
            "rgb(254,224,139)"
           ],
           [
            0.5,
            "rgb(255,255,191)"
           ],
           [
            0.6,
            "rgb(217,239,139)"
           ],
           [
            0.7,
            "rgb(166,217,106)"
           ],
           [
            0.8,
            "rgb(102,189,99)"
           ],
           [
            0.9,
            "rgb(26,152,80)"
           ],
           [
            1,
            "rgb(0,104,55)"
           ]
          ],
          "line": {
           "color": "black",
           "width": 0.6
          },
          "showscale": true,
          "size": 9
         },
         "mode": "markers+text",
         "name": "1Y",
         "text": [
          "KVIKA",
          "ALVO",
          "AMRQ",
          "NOVA",
          "EIM",
          "SYN",
          "SJOVA",
          "HAGA",
          "EIK",
          "HEIMAR",
          "PLAY",
          "SKAGI",
          "SIMINN",
          "HAMP",
          "ICESEA",
          "ARION",
          "OCS",
          "REITIR",
          "SKEL",
          "BRIM",
          "FESTI",
          "ISF",
          "KALD",
          "OMXI15",
          "ICEAIR",
          "SVN",
          "OLGERD",
          "ISB"
         ],
         "textfont": {
          "size": 10
         },
         "textposition": "top center",
         "type": "scatter",
         "visible": true,
         "x": [
          0.3833455248815258,
          0.46645799385808057,
          0.40350407719846826,
          0.17225577324160318,
          0.2569537475426875,
          0.3835921497607053,
          0.2121171666611001,
          0.24086819677518603,
          0.23430091892494898,
          0.20291917087201636,
          0.8097932282514887,
          0.22199205649854178,
          0.21035320287898687,
          0.23862978103105062,
          0.2325252949688532,
          0.2225116850983005,
          0.41940462624946534,
          0.221349707402985,
          0.24737499531495027,
          0.15525312537366848,
          0.21764879602344225,
          0.18389740615244937,
          0.18930912078770396,
          0.17645596080049822,
          0.39374736751163586,
          0.17575233045382482,
          0.19825799802659097,
          0.2305091017815528
         ],
         "y": [
          0.16022120979328736,
          -0.3889605324127036,
          0.09531017980432566,
          0.2554212102335601,
          -0.05747135391447941,
          -0.26596354849713777,
          0.17958557697507935,
          0.22668755974893848,
          0.30010459245033855,
          0.3637643789092204,
          -1.3719645355650658,
          0.2316878030972049,
          0.33493495730232603,
          0.02020270731751883,
          0.023810648693718295,
          0.26520921659972296,
          0.2800309257162604,
          0.25782910930209846,
          0.08866563708565614,
          -0.226164194658132,
          0.3823235795464704,
          -0.2796668428717733,
          0.36431529847269833,
          0.13822355591772922,
          0.17574131241962582,
          -0.25874388295942763,
          0.04495138786226676,
          0.20022276712319453
         ]
        },
        {
         "hovertemplate": "<b>%{text}</b><br>Vol: %{x:.2%}<br>Ret: %{y:.2%}<br>Sharpe: %{marker.color:.2f}<extra></extra>",
         "marker": {
          "color": [
           -0.2230529331003487,
           -0.021174693932436327,
           0.6433149434111214,
           0.15076162879220525,
           -0.6428332364734997,
           -1.130096985055091,
           0.32498567435345704,
           0.5470074277713082,
           -0.1857068632056507,
           0.0965759286851934,
           -1.8590563380142207,
           -0.04829506199952605,
           0.37215983685229725,
           0.07084699143416603,
           -0.7775112067388528,
           -0.026186841281973093,
           0.1770423715990025,
           -0.10292402967157868,
           -0.908427187585723,
           0.49498437193610373,
           0.4694206907676217,
           -0.36179181632285773,
           -0.6268983025827838,
           -0.7430038532448615,
           0.8779623967258011,
           -0.07519326618274785
          ],
          "colorbar": {
           "title": {
            "text": "Sharpe"
           }
          },
          "colorscale": [
           [
            0,
            "rgb(165,0,38)"
           ],
           [
            0.1,
            "rgb(215,48,39)"
           ],
           [
            0.2,
            "rgb(244,109,67)"
           ],
           [
            0.3,
            "rgb(253,174,97)"
           ],
           [
            0.4,
            "rgb(254,224,139)"
           ],
           [
            0.5,
            "rgb(255,255,191)"
           ],
           [
            0.6,
            "rgb(217,239,139)"
           ],
           [
            0.7,
            "rgb(166,217,106)"
           ],
           [
            0.8,
            "rgb(102,189,99)"
           ],
           [
            0.9,
            "rgb(26,152,80)"
           ],
           [
            1,
            "rgb(0,104,55)"
           ]
          ],
          "line": {
           "color": "black",
           "width": 0.6
          },
          "showscale": true,
          "size": 9
         },
         "mode": "markers+text",
         "name": "3Y",
         "text": [
          "KVIKA",
          "ALVO",
          "AMRQ",
          "NOVA",
          "EIM",
          "SYN",
          "SJOVA",
          "HAGA",
          "EIK",
          "HEIMAR",
          "PLAY",
          "SKAGI",
          "SIMINN",
          "HAMP",
          "ICESEA",
          "ARION",
          "REITIR",
          "SKEL",
          "BRIM",
          "FESTI",
          "KALD",
          "OMXI15",
          "ICEAIR",
          "SVN",
          "OLGERD",
          "ISB"
         ],
         "textfont": {
          "size": 10
         },
         "textposition": "top center",
         "type": "scatter",
         "visible": false,
         "x": [
          0.30140218463302243,
          0.5292601875851827,
          0.32266858741670634,
          0.15967415668110976,
          0.25455555511209577,
          0.28815088929232235,
          0.19546984538094106,
          0.23147311045914126,
          0.2479720567782287,
          0.19505278051757713,
          0.6687445618454884,
          0.23097707376983886,
          0.2172557891817683,
          0.2711435431486025,
          0.2621480540498741,
          0.21514381492353643,
          0.22711698278615558,
          0.2817980642851334,
          0.17168889462400472,
          0.2005222847431939,
          0.21997497876647018,
          0.1808337901343506,
          0.3448059213839915,
          0.17482244033463254,
          0.21246763719509532,
          0.22988606059156327
         ],
         "y": [
          -0.0672286413252485,
          -0.01120692248274008,
          0.2075775240545249,
          0.02407273593726589,
          -0.16363677135501684,
          -0.3256384512301968,
          0.06352489951689111,
          0.12661751075047875,
          -0.04605011282693836,
          0.01883740342111421,
          -1.243233816211398,
          -0.01115505209818347,
          0.08085387905710398,
          0.01920970427887847,
          -0.20382304984855962,
          -0.0056339369342008425,
          0.04020932926287081,
          -0.029003792329876505,
          -0.15596685968298618,
          0.09925539717280238,
          0.10326080648414936,
          -0.06542418538525317,
          -0.21615824683611706,
          -0.12989374680230187,
          0.18653859597847386,
          -0.01728588374576472
         ]
        },
        {
         "hovertemplate": "<b>%{text}</b><br>Vol: %{x:.2%}<br>Ret: %{y:.2%}<br>Sharpe: %{marker.color:.2f}<extra></extra>",
         "marker": {
          "color": [
           0.404537531889779,
           0.6693249267555053,
           0.04595805657053655,
           0.782285653921713,
           0.702682279484652,
           0.5318139252160108,
           0.7208857204246448,
           -1.6002925405396342,
           0.5457251144034103,
           0.6509663174788081,
           0.5161472011402256,
           -0.38296675586036755,
           0.8706264942266104,
           0.6212980280444242,
           0.5000812420961167,
           0.33401211284755566,
           0.8012370782444402,
           0.8821976460115597,
           0.24763968184858046,
           -0.26242892993306016,
           0.16228889378906694,
           0.300604383969624
          ],
          "colorbar": {
           "title": {
            "text": "Sharpe"
           }
          },
          "colorscale": [
           [
            0,
            "rgb(165,0,38)"
           ],
           [
            0.1,
            "rgb(215,48,39)"
           ],
           [
            0.2,
            "rgb(244,109,67)"
           ],
           [
            0.3,
            "rgb(253,174,97)"
           ],
           [
            0.4,
            "rgb(254,224,139)"
           ],
           [
            0.5,
            "rgb(255,255,191)"
           ],
           [
            0.6,
            "rgb(217,239,139)"
           ],
           [
            0.7,
            "rgb(166,217,106)"
           ],
           [
            0.8,
            "rgb(102,189,99)"
           ],
           [
            0.9,
            "rgb(26,152,80)"
           ],
           [
            1,
            "rgb(0,104,55)"
           ]
          ],
          "line": {
           "color": "black",
           "width": 0.6
          },
          "showscale": true,
          "size": 9
         },
         "mode": "markers+text",
         "name": "5Y",
         "text": [
          "KVIKA",
          "EIM",
          "SYN",
          "SJOVA",
          "HAGA",
          "EIK",
          "HEIMAR",
          "PLAY",
          "SKAGI",
          "SIMINN",
          "HAMP",
          "ICESEA",
          "ARION",
          "REITIR",
          "SKEL",
          "BRIM",
          "FESTI",
          "KALD",
          "OMXI15",
          "ICEAIR",
          "SVN",
          "ISB"
         ],
         "textfont": {
          "size": 10
         },
         "textposition": "top center",
         "type": "scatter",
         "visible": false,
         "x": [
          0.28048176628194327,
          0.2780339801108288,
          0.2899340511770221,
          0.1985028167389629,
          0.2219539572785397,
          0.25023335395191393,
          0.21333447790400692,
          0.5992519353901813,
          0.2353256918547572,
          0.22280528822870668,
          0.2844030437281384,
          0.26677282868502566,
          0.2232368125564695,
          0.24610164839377324,
          0.2752794361469109,
          0.2085593191808471,
          0.19756248295575435,
          0.20912711589296915,
          0.1771897688553728,
          0.45042113736036443,
          0.19569755735468042,
          0.2179319746259798
         ],
         "y": [
          0.11346540147178316,
          0.1860950733732221,
          0.01332480552571842,
          0.15528590579794155,
          0.15596311264112334,
          0.1330775821851347,
          0.1537897787952455,
          -0.958978402108846,
          0.12842314010949907,
          0.14503873799304562,
          0.14679383501603982,
          -0.10216512475319788,
          0.194355883498362,
          0.15290246884553357,
          0.13766208235186586,
          0.06966133885364248,
          0.15829438661418563,
          0.18449144935796402,
          0.04387921798616803,
          -0.11820353709671234,
          0.031759540100313566,
          0.06551130697972639
         ]
        }
       ],
       "layout": {
        "height": 600,
        "hovermode": "closest",
        "shapes": [
         {
          "line": {
           "color": "lightgray",
           "width": 1
          },
          "type": "line",
          "x0": 0,
          "x1": 1,
          "xref": "x domain",
          "y0": 0,
          "y1": 0,
          "yref": "y"
         }
        ],
        "template": {
         "data": {
          "bar": [
           {
            "error_x": {
             "color": "#2a3f5f"
            },
            "error_y": {
             "color": "#2a3f5f"
            },
            "marker": {
             "line": {
              "color": "white",
              "width": 0.5
             },
             "pattern": {
              "fillmode": "overlay",
              "size": 10,
              "solidity": 0.2
             }
            },
            "type": "bar"
           }
          ],
          "barpolar": [
           {
            "marker": {
             "line": {
              "color": "white",
              "width": 0.5
             },
             "pattern": {
              "fillmode": "overlay",
              "size": 10,
              "solidity": 0.2
             }
            },
            "type": "barpolar"
           }
          ],
          "carpet": [
           {
            "aaxis": {
             "endlinecolor": "#2a3f5f",
             "gridcolor": "#C8D4E3",
             "linecolor": "#C8D4E3",
             "minorgridcolor": "#C8D4E3",
             "startlinecolor": "#2a3f5f"
            },
            "baxis": {
             "endlinecolor": "#2a3f5f",
             "gridcolor": "#C8D4E3",
             "linecolor": "#C8D4E3",
             "minorgridcolor": "#C8D4E3",
             "startlinecolor": "#2a3f5f"
            },
            "type": "carpet"
           }
          ],
          "choropleth": [
           {
            "colorbar": {
             "outlinewidth": 0,
             "ticks": ""
            },
            "type": "choropleth"
           }
          ],
          "contour": [
           {
            "colorbar": {
             "outlinewidth": 0,
             "ticks": ""
            },
            "colorscale": [
             [
              0,
              "#0d0887"
             ],
             [
              0.1111111111111111,
              "#46039f"
             ],
             [
              0.2222222222222222,
              "#7201a8"
             ],
             [
              0.3333333333333333,
              "#9c179e"
             ],
             [
              0.4444444444444444,
              "#bd3786"
             ],
             [
              0.5555555555555556,
              "#d8576b"
             ],
             [
              0.6666666666666666,
              "#ed7953"
             ],
             [
              0.7777777777777778,
              "#fb9f3a"
             ],
             [
              0.8888888888888888,
              "#fdca26"
             ],
             [
              1,
              "#f0f921"
             ]
            ],
            "type": "contour"
           }
          ],
          "contourcarpet": [
           {
            "colorbar": {
             "outlinewidth": 0,
             "ticks": ""
            },
            "type": "contourcarpet"
           }
          ],
          "heatmap": [
           {
            "colorbar": {
             "outlinewidth": 0,
             "ticks": ""
            },
            "colorscale": [
             [
              0,
              "#0d0887"
             ],
             [
              0.1111111111111111,
              "#46039f"
             ],
             [
              0.2222222222222222,
              "#7201a8"
             ],
             [
              0.3333333333333333,
              "#9c179e"
             ],
             [
              0.4444444444444444,
              "#bd3786"
             ],
             [
              0.5555555555555556,
              "#d8576b"
             ],
             [
              0.6666666666666666,
              "#ed7953"
             ],
             [
              0.7777777777777778,
              "#fb9f3a"
             ],
             [
              0.8888888888888888,
              "#fdca26"
             ],
             [
              1,
              "#f0f921"
             ]
            ],
            "type": "heatmap"
           }
          ],
          "heatmapgl": [
           {
            "colorbar": {
             "outlinewidth": 0,
             "ticks": ""
            },
            "colorscale": [
             [
              0,
              "#0d0887"
             ],
             [
              0.1111111111111111,
              "#46039f"
             ],
             [
              0.2222222222222222,
              "#7201a8"
             ],
             [
              0.3333333333333333,
              "#9c179e"
             ],
             [
              0.4444444444444444,
              "#bd3786"
             ],
             [
              0.5555555555555556,
              "#d8576b"
             ],
             [
              0.6666666666666666,
              "#ed7953"
             ],
             [
              0.7777777777777778,
              "#fb9f3a"
             ],
             [
              0.8888888888888888,
              "#fdca26"
             ],
             [
              1,
              "#f0f921"
             ]
            ],
            "type": "heatmapgl"
           }
          ],
          "histogram": [
           {
            "marker": {
             "pattern": {
              "fillmode": "overlay",
              "size": 10,
              "solidity": 0.2
             }
            },
            "type": "histogram"
           }
          ],
          "histogram2d": [
           {
            "colorbar": {
             "outlinewidth": 0,
             "ticks": ""
            },
            "colorscale": [
             [
              0,
              "#0d0887"
             ],
             [
              0.1111111111111111,
              "#46039f"
             ],
             [
              0.2222222222222222,
              "#7201a8"
             ],
             [
              0.3333333333333333,
              "#9c179e"
             ],
             [
              0.4444444444444444,
              "#bd3786"
             ],
             [
              0.5555555555555556,
              "#d8576b"
             ],
             [
              0.6666666666666666,
              "#ed7953"
             ],
             [
              0.7777777777777778,
              "#fb9f3a"
             ],
             [
              0.8888888888888888,
              "#fdca26"
             ],
             [
              1,
              "#f0f921"
             ]
            ],
            "type": "histogram2d"
           }
          ],
          "histogram2dcontour": [
           {
            "colorbar": {
             "outlinewidth": 0,
             "ticks": ""
            },
            "colorscale": [
             [
              0,
              "#0d0887"
             ],
             [
              0.1111111111111111,
              "#46039f"
             ],
             [
              0.2222222222222222,
              "#7201a8"
             ],
             [
              0.3333333333333333,
              "#9c179e"
             ],
             [
              0.4444444444444444,
              "#bd3786"
             ],
             [
              0.5555555555555556,
              "#d8576b"
             ],
             [
              0.6666666666666666,
              "#ed7953"
             ],
             [
              0.7777777777777778,
              "#fb9f3a"
             ],
             [
              0.8888888888888888,
              "#fdca26"
             ],
             [
              1,
              "#f0f921"
             ]
            ],
            "type": "histogram2dcontour"
           }
          ],
          "mesh3d": [
           {
            "colorbar": {
             "outlinewidth": 0,
             "ticks": ""
            },
            "type": "mesh3d"
           }
          ],
          "parcoords": [
           {
            "line": {
             "colorbar": {
              "outlinewidth": 0,
              "ticks": ""
             }
            },
            "type": "parcoords"
           }
          ],
          "pie": [
           {
            "automargin": true,
            "type": "pie"
           }
          ],
          "scatter": [
           {
            "fillpattern": {
             "fillmode": "overlay",
             "size": 10,
             "solidity": 0.2
            },
            "type": "scatter"
           }
          ],
          "scatter3d": [
           {
            "line": {
             "colorbar": {
              "outlinewidth": 0,
              "ticks": ""
             }
            },
            "marker": {
             "colorbar": {
              "outlinewidth": 0,
              "ticks": ""
             }
            },
            "type": "scatter3d"
           }
          ],
          "scattercarpet": [
           {
            "marker": {
             "colorbar": {
              "outlinewidth": 0,
              "ticks": ""
             }
            },
            "type": "scattercarpet"
           }
          ],
          "scattergeo": [
           {
            "marker": {
             "colorbar": {
              "outlinewidth": 0,
              "ticks": ""
             }
            },
            "type": "scattergeo"
           }
          ],
          "scattergl": [
           {
            "marker": {
             "colorbar": {
              "outlinewidth": 0,
              "ticks": ""
             }
            },
            "type": "scattergl"
           }
          ],
          "scattermapbox": [
           {
            "marker": {
             "colorbar": {
              "outlinewidth": 0,
              "ticks": ""
             }
            },
            "type": "scattermapbox"
           }
          ],
          "scatterpolar": [
           {
            "marker": {
             "colorbar": {
              "outlinewidth": 0,
              "ticks": ""
             }
            },
            "type": "scatterpolar"
           }
          ],
          "scatterpolargl": [
           {
            "marker": {
             "colorbar": {
              "outlinewidth": 0,
              "ticks": ""
             }
            },
            "type": "scatterpolargl"
           }
          ],
          "scatterternary": [
           {
            "marker": {
             "colorbar": {
              "outlinewidth": 0,
              "ticks": ""
             }
            },
            "type": "scatterternary"
           }
          ],
          "surface": [
           {
            "colorbar": {
             "outlinewidth": 0,
             "ticks": ""
            },
            "colorscale": [
             [
              0,
              "#0d0887"
             ],
             [
              0.1111111111111111,
              "#46039f"
             ],
             [
              0.2222222222222222,
              "#7201a8"
             ],
             [
              0.3333333333333333,
              "#9c179e"
             ],
             [
              0.4444444444444444,
              "#bd3786"
             ],
             [
              0.5555555555555556,
              "#d8576b"
             ],
             [
              0.6666666666666666,
              "#ed7953"
             ],
             [
              0.7777777777777778,
              "#fb9f3a"
             ],
             [
              0.8888888888888888,
              "#fdca26"
             ],
             [
              1,
              "#f0f921"
             ]
            ],
            "type": "surface"
           }
          ],
          "table": [
           {
            "cells": {
             "fill": {
              "color": "#EBF0F8"
             },
             "line": {
              "color": "white"
             }
            },
            "header": {
             "fill": {
              "color": "#C8D4E3"
             },
             "line": {
              "color": "white"
             }
            },
            "type": "table"
           }
          ]
         },
         "layout": {
          "annotationdefaults": {
           "arrowcolor": "#2a3f5f",
           "arrowhead": 0,
           "arrowwidth": 1
          },
          "autotypenumbers": "strict",
          "coloraxis": {
           "colorbar": {
            "outlinewidth": 0,
            "ticks": ""
           }
          },
          "colorscale": {
           "diverging": [
            [
             0,
             "#8e0152"
            ],
            [
             0.1,
             "#c51b7d"
            ],
            [
             0.2,
             "#de77ae"
            ],
            [
             0.3,
             "#f1b6da"
            ],
            [
             0.4,
             "#fde0ef"
            ],
            [
             0.5,
             "#f7f7f7"
            ],
            [
             0.6,
             "#e6f5d0"
            ],
            [
             0.7,
             "#b8e186"
            ],
            [
             0.8,
             "#7fbc41"
            ],
            [
             0.9,
             "#4d9221"
            ],
            [
             1,
             "#276419"
            ]
           ],
           "sequential": [
            [
             0,
             "#0d0887"
            ],
            [
             0.1111111111111111,
             "#46039f"
            ],
            [
             0.2222222222222222,
             "#7201a8"
            ],
            [
             0.3333333333333333,
             "#9c179e"
            ],
            [
             0.4444444444444444,
             "#bd3786"
            ],
            [
             0.5555555555555556,
             "#d8576b"
            ],
            [
             0.6666666666666666,
             "#ed7953"
            ],
            [
             0.7777777777777778,
             "#fb9f3a"
            ],
            [
             0.8888888888888888,
             "#fdca26"
            ],
            [
             1,
             "#f0f921"
            ]
           ],
           "sequentialminus": [
            [
             0,
             "#0d0887"
            ],
            [
             0.1111111111111111,
             "#46039f"
            ],
            [
             0.2222222222222222,
             "#7201a8"
            ],
            [
             0.3333333333333333,
             "#9c179e"
            ],
            [
             0.4444444444444444,
             "#bd3786"
            ],
            [
             0.5555555555555556,
             "#d8576b"
            ],
            [
             0.6666666666666666,
             "#ed7953"
            ],
            [
             0.7777777777777778,
             "#fb9f3a"
            ],
            [
             0.8888888888888888,
             "#fdca26"
            ],
            [
             1,
             "#f0f921"
            ]
           ]
          },
          "colorway": [
           "#636efa",
           "#EF553B",
           "#00cc96",
           "#ab63fa",
           "#FFA15A",
           "#19d3f3",
           "#FF6692",
           "#B6E880",
           "#FF97FF",
           "#FECB52"
          ],
          "font": {
           "color": "#2a3f5f"
          },
          "geo": {
           "bgcolor": "white",
           "lakecolor": "white",
           "landcolor": "white",
           "showlakes": true,
           "showland": true,
           "subunitcolor": "#C8D4E3"
          },
          "hoverlabel": {
           "align": "left"
          },
          "hovermode": "closest",
          "mapbox": {
           "style": "light"
          },
          "paper_bgcolor": "white",
          "plot_bgcolor": "white",
          "polar": {
           "angularaxis": {
            "gridcolor": "#EBF0F8",
            "linecolor": "#EBF0F8",
            "ticks": ""
           },
           "bgcolor": "white",
           "radialaxis": {
            "gridcolor": "#EBF0F8",
            "linecolor": "#EBF0F8",
            "ticks": ""
           }
          },
          "scene": {
           "xaxis": {
            "backgroundcolor": "white",
            "gridcolor": "#DFE8F3",
            "gridwidth": 2,
            "linecolor": "#EBF0F8",
            "showbackground": true,
            "ticks": "",
            "zerolinecolor": "#EBF0F8"
           },
           "yaxis": {
            "backgroundcolor": "white",
            "gridcolor": "#DFE8F3",
            "gridwidth": 2,
            "linecolor": "#EBF0F8",
            "showbackground": true,
            "ticks": "",
            "zerolinecolor": "#EBF0F8"
           },
           "zaxis": {
            "backgroundcolor": "white",
            "gridcolor": "#DFE8F3",
            "gridwidth": 2,
            "linecolor": "#EBF0F8",
            "showbackground": true,
            "ticks": "",
            "zerolinecolor": "#EBF0F8"
           }
          },
          "shapedefaults": {
           "line": {
            "color": "#2a3f5f"
           }
          },
          "ternary": {
           "aaxis": {
            "gridcolor": "#DFE8F3",
            "linecolor": "#A2B1C6",
            "ticks": ""
           },
           "baxis": {
            "gridcolor": "#DFE8F3",
            "linecolor": "#A2B1C6",
            "ticks": ""
           },
           "bgcolor": "white",
           "caxis": {
            "gridcolor": "#DFE8F3",
            "linecolor": "#A2B1C6",
            "ticks": ""
           }
          },
          "title": {
           "x": 0.05
          },
          "xaxis": {
           "automargin": true,
           "gridcolor": "#EBF0F8",
           "linecolor": "#EBF0F8",
           "ticks": "",
           "title": {
            "standoff": 15
           },
           "zerolinecolor": "#EBF0F8",
           "zerolinewidth": 2
          },
          "yaxis": {
           "automargin": true,
           "gridcolor": "#EBF0F8",
           "linecolor": "#EBF0F8",
           "ticks": "",
           "title": {
            "standoff": 15
           },
           "zerolinecolor": "#EBF0F8",
           "zerolinewidth": 2
          }
         }
        },
        "title": {
         "text": "Iceland Equities — Risk vs Return (log returns) • Select horizon"
        },
        "updatemenus": [
         {
          "buttons": [
           {
            "args": [
             {
              "visible": [
               true,
               false,
               false
              ]
             }
            ],
            "label": "1Y",
            "method": "update"
           },
           {
            "args": [
             {
              "visible": [
               false,
               true,
               false
              ]
             }
            ],
            "label": "3Y",
            "method": "update"
           },
           {
            "args": [
             {
              "visible": [
               false,
               false,
               true
              ]
             }
            ],
            "label": "5Y",
            "method": "update"
           }
          ],
          "type": "dropdown",
          "x": 0.02,
          "y": 1.12
         }
        ],
        "width": 850,
        "xaxis": {
         "title": {
          "text": "Annualized Volatility"
         }
        },
        "yaxis": {
         "title": {
          "text": "Annualized Return"
         }
        }
       }
      }
     },
     "metadata": {},
     "output_type": "display_data"
    }
   ],
   "source": [
    "import numpy as np, pandas as pd\n",
    "import plotly.express as px\n",
    "import plotly.graph_objects as go\n",
    "\n",
    "ann = 252\n",
    "logret = np.log(closes / closes.shift(1))  # closes: wide price DF (date × tickers)\n",
    "\n",
    "def risk_return(df, window_days):\n",
    "    win = df.tail(window_days)\n",
    "    valid = win.dropna(axis=1, thresh=int(0.8*len(win)))\n",
    "    mu = valid.mean() * ann\n",
    "    vol = valid.std() * np.sqrt(ann)\n",
    "    sharpe = mu / vol\n",
    "    rr = pd.DataFrame({\n",
    "        \"ticker\": mu.index,\n",
    "        \"ann_ret\": mu.values,\n",
    "        \"ann_vol\": vol.values,\n",
    "        \"sharpe\": sharpe.values\n",
    "    })\n",
    "    return rr.dropna()\n",
    "\n",
    "data_1y = risk_return(logret, 252)\n",
    "data_3y = risk_return(logret, 756)\n",
    "data_5y = risk_return(logret, 1260)\n",
    "\n",
    "fig = go.Figure()\n",
    "\n",
    "for name, df in [(\"1Y\", data_1y), (\"3Y\", data_3y), (\"5Y\", data_5y)]:\n",
    "    fig.add_trace(go.Scatter(\n",
    "        x=df[\"ann_vol\"], y=df[\"ann_ret\"], mode=\"markers+text\",\n",
    "        text=df[\"ticker\"], textposition=\"top center\", textfont=dict(size=10),\n",
    "        marker=dict(\n",
    "            size=9,\n",
    "            line=dict(width=0.6, color=\"black\"),\n",
    "            color=df[\"sharpe\"],\n",
    "            colorscale=\"RdYlGn\",\n",
    "            colorbar=dict(title=\"Sharpe\"),\n",
    "            showscale=True\n",
    "        ),\n",
    "        name=name,\n",
    "        hovertemplate=\"<b>%{text}</b><br>Vol: %{x:.2%}<br>Ret: %{y:.2%}<br>Sharpe: %{marker.color:.2f}<extra></extra>\",\n",
    "        visible=True if name == \"1Y\" else False\n",
    "    ))\n",
    "\n",
    "# Axes & layout (no boundaries, Plotly will auto-scale)\n",
    "fig.update_layout(\n",
    "    title=\"Iceland Equities — Risk vs Return (log returns) • Select horizon\",\n",
    "    xaxis_title=\"Annualized Volatility\",\n",
    "    yaxis_title=\"Annualized Return\",\n",
    "    template=\"plotly_white\",\n",
    "    hovermode=\"closest\",\n",
    "    width=850, height=600\n",
    ")\n",
    "\n",
    "# Dropdown to toggle horizon\n",
    "fig.update_layout(\n",
    "    updatemenus=[dict(\n",
    "        type=\"dropdown\", x=0.02, y=1.12,\n",
    "        buttons=[\n",
    "            dict(label=\"1Y\", method=\"update\",\n",
    "                 args=[{\"visible\": [True, False, False]}]),\n",
    "            dict(label=\"3Y\", method=\"update\",\n",
    "                 args=[{\"visible\": [False, True, False]}]),\n",
    "            dict(label=\"5Y\", method=\"update\",\n",
    "                 args=[{\"visible\": [False, False, True]}]),\n",
    "        ]\n",
    "    )]\n",
    ")\n",
    "\n",
    "# Zero line\n",
    "fig.add_hline(y=0, line_width=1, line_color=\"lightgray\")\n",
    "\n",
    "fig.show()\n",
    "pio.write_json(fig, \"../docs/data/sharpe/fig_sharpe_graphed_by_year.json\")\n"
   ]
  },
  {
   "cell_type": "code",
   "execution_count": 41,
   "metadata": {},
   "outputs": [
    {
     "data": {
      "application/vnd.plotly.v1+json": {
       "config": {
        "plotlyServerURL": "https://plot.ly"
       },
       "data": [
        {
         "hovertemplate": "<b>%{text}</b><br>Vol: %{x:.2%}<br>Ret: %{y:.2%}<br>Sharpe: %{marker.color:.2f}<extra></extra>",
         "marker": {
          "color": [
           0.4179550807142049,
           -0.8338597205626291,
           0.23620623728529566,
           1.482802029951765,
           -0.22366419818388422,
           -0.6933498213220805,
           0.8466338665649041,
           0.9411269847323056,
           1.280851111584704,
           1.792656540759528,
           -1.6942158661013027,
           1.043676097026142,
           1.5922503328604376,
           0.08466129931573815,
           0.10240025153782832,
           1.1918889404956854,
           0.6676867830964166,
           1.1648043827439978,
           0.3584260283573518,
           -1.4567448746284004,
           1.756607831202023,
           -1.5207764411855373,
           1.9244466244246665,
           0.7833317462933729,
           0.44633012667553235,
           -1.472207408523707,
           0.22673177531146937,
           0.8686111115600988
          ],
          "colorbar": {
           "title": {
            "text": "Sharpe"
           }
          },
          "colorscale": [
           [
            0,
            "rgb(165,0,38)"
           ],
           [
            0.1,
            "rgb(215,48,39)"
           ],
           [
            0.2,
            "rgb(244,109,67)"
           ],
           [
            0.3,
            "rgb(253,174,97)"
           ],
           [
            0.4,
            "rgb(254,224,139)"
           ],
           [
            0.5,
            "rgb(255,255,191)"
           ],
           [
            0.6,
            "rgb(217,239,139)"
           ],
           [
            0.7,
            "rgb(166,217,106)"
           ],
           [
            0.8,
            "rgb(102,189,99)"
           ],
           [
            0.9,
            "rgb(26,152,80)"
           ],
           [
            1,
            "rgb(0,104,55)"
           ]
          ],
          "line": {
           "color": "black",
           "width": 0.6
          },
          "showscale": true,
          "size": 9
         },
         "mode": "markers+text",
         "name": "Risk vs Return (1Y, log returns)",
         "text": [
          "KVIKA",
          "ALVO",
          "AMRQ",
          "NOVA",
          "EIM",
          "SYN",
          "SJOVA",
          "HAGA",
          "EIK",
          "HEIMAR",
          "PLAY",
          "SKAGI",
          "SIMINN",
          "HAMP",
          "ICESEA",
          "ARION",
          "OCS",
          "REITIR",
          "SKEL",
          "BRIM",
          "FESTI",
          "ISF",
          "KALD",
          "OMXI15",
          "ICEAIR",
          "SVN",
          "OLGERD",
          "ISB"
         ],
         "textfont": {
          "size": 10
         },
         "textposition": "top center",
         "type": "scatter",
         "x": [
          0.3833455248815258,
          0.46645799385808057,
          0.40350407719846826,
          0.17225577324160318,
          0.2569537475426875,
          0.3835921497607053,
          0.2121171666611001,
          0.24086819677518603,
          0.23430091892494898,
          0.20291917087201636,
          0.8097932282514887,
          0.22199205649854178,
          0.21035320287898687,
          0.23862978103105062,
          0.2325252949688532,
          0.2225116850983005,
          0.41940462624946534,
          0.221349707402985,
          0.24737499531495027,
          0.15525312537366848,
          0.21764879602344225,
          0.18389740615244937,
          0.18930912078770396,
          0.17645596080049822,
          0.39374736751163586,
          0.17575233045382482,
          0.19825799802659097,
          0.2305091017815528
         ],
         "y": [
          0.16022120979328736,
          -0.3889605324127036,
          0.09531017980432566,
          0.2554212102335601,
          -0.05747135391447941,
          -0.26596354849713777,
          0.17958557697507935,
          0.22668755974893848,
          0.30010459245033855,
          0.3637643789092204,
          -1.3719645355650658,
          0.2316878030972049,
          0.33493495730232603,
          0.02020270731751883,
          0.023810648693718295,
          0.26520921659972296,
          0.2800309257162604,
          0.25782910930209846,
          0.08866563708565614,
          -0.226164194658132,
          0.3823235795464704,
          -0.2796668428717733,
          0.36431529847269833,
          0.13822355591772922,
          0.17574131241962582,
          -0.25874388295942763,
          0.04495138786226676,
          0.20022276712319453
         ]
        }
       ],
       "layout": {
        "height": 600,
        "hovermode": "closest",
        "shapes": [
         {
          "line": {
           "color": "lightgray",
           "width": 1
          },
          "type": "line",
          "x0": 0,
          "x1": 1,
          "xref": "x domain",
          "y0": 0,
          "y1": 0,
          "yref": "y"
         }
        ],
        "template": {
         "data": {
          "bar": [
           {
            "error_x": {
             "color": "#2a3f5f"
            },
            "error_y": {
             "color": "#2a3f5f"
            },
            "marker": {
             "line": {
              "color": "white",
              "width": 0.5
             },
             "pattern": {
              "fillmode": "overlay",
              "size": 10,
              "solidity": 0.2
             }
            },
            "type": "bar"
           }
          ],
          "barpolar": [
           {
            "marker": {
             "line": {
              "color": "white",
              "width": 0.5
             },
             "pattern": {
              "fillmode": "overlay",
              "size": 10,
              "solidity": 0.2
             }
            },
            "type": "barpolar"
           }
          ],
          "carpet": [
           {
            "aaxis": {
             "endlinecolor": "#2a3f5f",
             "gridcolor": "#C8D4E3",
             "linecolor": "#C8D4E3",
             "minorgridcolor": "#C8D4E3",
             "startlinecolor": "#2a3f5f"
            },
            "baxis": {
             "endlinecolor": "#2a3f5f",
             "gridcolor": "#C8D4E3",
             "linecolor": "#C8D4E3",
             "minorgridcolor": "#C8D4E3",
             "startlinecolor": "#2a3f5f"
            },
            "type": "carpet"
           }
          ],
          "choropleth": [
           {
            "colorbar": {
             "outlinewidth": 0,
             "ticks": ""
            },
            "type": "choropleth"
           }
          ],
          "contour": [
           {
            "colorbar": {
             "outlinewidth": 0,
             "ticks": ""
            },
            "colorscale": [
             [
              0,
              "#0d0887"
             ],
             [
              0.1111111111111111,
              "#46039f"
             ],
             [
              0.2222222222222222,
              "#7201a8"
             ],
             [
              0.3333333333333333,
              "#9c179e"
             ],
             [
              0.4444444444444444,
              "#bd3786"
             ],
             [
              0.5555555555555556,
              "#d8576b"
             ],
             [
              0.6666666666666666,
              "#ed7953"
             ],
             [
              0.7777777777777778,
              "#fb9f3a"
             ],
             [
              0.8888888888888888,
              "#fdca26"
             ],
             [
              1,
              "#f0f921"
             ]
            ],
            "type": "contour"
           }
          ],
          "contourcarpet": [
           {
            "colorbar": {
             "outlinewidth": 0,
             "ticks": ""
            },
            "type": "contourcarpet"
           }
          ],
          "heatmap": [
           {
            "colorbar": {
             "outlinewidth": 0,
             "ticks": ""
            },
            "colorscale": [
             [
              0,
              "#0d0887"
             ],
             [
              0.1111111111111111,
              "#46039f"
             ],
             [
              0.2222222222222222,
              "#7201a8"
             ],
             [
              0.3333333333333333,
              "#9c179e"
             ],
             [
              0.4444444444444444,
              "#bd3786"
             ],
             [
              0.5555555555555556,
              "#d8576b"
             ],
             [
              0.6666666666666666,
              "#ed7953"
             ],
             [
              0.7777777777777778,
              "#fb9f3a"
             ],
             [
              0.8888888888888888,
              "#fdca26"
             ],
             [
              1,
              "#f0f921"
             ]
            ],
            "type": "heatmap"
           }
          ],
          "heatmapgl": [
           {
            "colorbar": {
             "outlinewidth": 0,
             "ticks": ""
            },
            "colorscale": [
             [
              0,
              "#0d0887"
             ],
             [
              0.1111111111111111,
              "#46039f"
             ],
             [
              0.2222222222222222,
              "#7201a8"
             ],
             [
              0.3333333333333333,
              "#9c179e"
             ],
             [
              0.4444444444444444,
              "#bd3786"
             ],
             [
              0.5555555555555556,
              "#d8576b"
             ],
             [
              0.6666666666666666,
              "#ed7953"
             ],
             [
              0.7777777777777778,
              "#fb9f3a"
             ],
             [
              0.8888888888888888,
              "#fdca26"
             ],
             [
              1,
              "#f0f921"
             ]
            ],
            "type": "heatmapgl"
           }
          ],
          "histogram": [
           {
            "marker": {
             "pattern": {
              "fillmode": "overlay",
              "size": 10,
              "solidity": 0.2
             }
            },
            "type": "histogram"
           }
          ],
          "histogram2d": [
           {
            "colorbar": {
             "outlinewidth": 0,
             "ticks": ""
            },
            "colorscale": [
             [
              0,
              "#0d0887"
             ],
             [
              0.1111111111111111,
              "#46039f"
             ],
             [
              0.2222222222222222,
              "#7201a8"
             ],
             [
              0.3333333333333333,
              "#9c179e"
             ],
             [
              0.4444444444444444,
              "#bd3786"
             ],
             [
              0.5555555555555556,
              "#d8576b"
             ],
             [
              0.6666666666666666,
              "#ed7953"
             ],
             [
              0.7777777777777778,
              "#fb9f3a"
             ],
             [
              0.8888888888888888,
              "#fdca26"
             ],
             [
              1,
              "#f0f921"
             ]
            ],
            "type": "histogram2d"
           }
          ],
          "histogram2dcontour": [
           {
            "colorbar": {
             "outlinewidth": 0,
             "ticks": ""
            },
            "colorscale": [
             [
              0,
              "#0d0887"
             ],
             [
              0.1111111111111111,
              "#46039f"
             ],
             [
              0.2222222222222222,
              "#7201a8"
             ],
             [
              0.3333333333333333,
              "#9c179e"
             ],
             [
              0.4444444444444444,
              "#bd3786"
             ],
             [
              0.5555555555555556,
              "#d8576b"
             ],
             [
              0.6666666666666666,
              "#ed7953"
             ],
             [
              0.7777777777777778,
              "#fb9f3a"
             ],
             [
              0.8888888888888888,
              "#fdca26"
             ],
             [
              1,
              "#f0f921"
             ]
            ],
            "type": "histogram2dcontour"
           }
          ],
          "mesh3d": [
           {
            "colorbar": {
             "outlinewidth": 0,
             "ticks": ""
            },
            "type": "mesh3d"
           }
          ],
          "parcoords": [
           {
            "line": {
             "colorbar": {
              "outlinewidth": 0,
              "ticks": ""
             }
            },
            "type": "parcoords"
           }
          ],
          "pie": [
           {
            "automargin": true,
            "type": "pie"
           }
          ],
          "scatter": [
           {
            "fillpattern": {
             "fillmode": "overlay",
             "size": 10,
             "solidity": 0.2
            },
            "type": "scatter"
           }
          ],
          "scatter3d": [
           {
            "line": {
             "colorbar": {
              "outlinewidth": 0,
              "ticks": ""
             }
            },
            "marker": {
             "colorbar": {
              "outlinewidth": 0,
              "ticks": ""
             }
            },
            "type": "scatter3d"
           }
          ],
          "scattercarpet": [
           {
            "marker": {
             "colorbar": {
              "outlinewidth": 0,
              "ticks": ""
             }
            },
            "type": "scattercarpet"
           }
          ],
          "scattergeo": [
           {
            "marker": {
             "colorbar": {
              "outlinewidth": 0,
              "ticks": ""
             }
            },
            "type": "scattergeo"
           }
          ],
          "scattergl": [
           {
            "marker": {
             "colorbar": {
              "outlinewidth": 0,
              "ticks": ""
             }
            },
            "type": "scattergl"
           }
          ],
          "scattermapbox": [
           {
            "marker": {
             "colorbar": {
              "outlinewidth": 0,
              "ticks": ""
             }
            },
            "type": "scattermapbox"
           }
          ],
          "scatterpolar": [
           {
            "marker": {
             "colorbar": {
              "outlinewidth": 0,
              "ticks": ""
             }
            },
            "type": "scatterpolar"
           }
          ],
          "scatterpolargl": [
           {
            "marker": {
             "colorbar": {
              "outlinewidth": 0,
              "ticks": ""
             }
            },
            "type": "scatterpolargl"
           }
          ],
          "scatterternary": [
           {
            "marker": {
             "colorbar": {
              "outlinewidth": 0,
              "ticks": ""
             }
            },
            "type": "scatterternary"
           }
          ],
          "surface": [
           {
            "colorbar": {
             "outlinewidth": 0,
             "ticks": ""
            },
            "colorscale": [
             [
              0,
              "#0d0887"
             ],
             [
              0.1111111111111111,
              "#46039f"
             ],
             [
              0.2222222222222222,
              "#7201a8"
             ],
             [
              0.3333333333333333,
              "#9c179e"
             ],
             [
              0.4444444444444444,
              "#bd3786"
             ],
             [
              0.5555555555555556,
              "#d8576b"
             ],
             [
              0.6666666666666666,
              "#ed7953"
             ],
             [
              0.7777777777777778,
              "#fb9f3a"
             ],
             [
              0.8888888888888888,
              "#fdca26"
             ],
             [
              1,
              "#f0f921"
             ]
            ],
            "type": "surface"
           }
          ],
          "table": [
           {
            "cells": {
             "fill": {
              "color": "#EBF0F8"
             },
             "line": {
              "color": "white"
             }
            },
            "header": {
             "fill": {
              "color": "#C8D4E3"
             },
             "line": {
              "color": "white"
             }
            },
            "type": "table"
           }
          ]
         },
         "layout": {
          "annotationdefaults": {
           "arrowcolor": "#2a3f5f",
           "arrowhead": 0,
           "arrowwidth": 1
          },
          "autotypenumbers": "strict",
          "coloraxis": {
           "colorbar": {
            "outlinewidth": 0,
            "ticks": ""
           }
          },
          "colorscale": {
           "diverging": [
            [
             0,
             "#8e0152"
            ],
            [
             0.1,
             "#c51b7d"
            ],
            [
             0.2,
             "#de77ae"
            ],
            [
             0.3,
             "#f1b6da"
            ],
            [
             0.4,
             "#fde0ef"
            ],
            [
             0.5,
             "#f7f7f7"
            ],
            [
             0.6,
             "#e6f5d0"
            ],
            [
             0.7,
             "#b8e186"
            ],
            [
             0.8,
             "#7fbc41"
            ],
            [
             0.9,
             "#4d9221"
            ],
            [
             1,
             "#276419"
            ]
           ],
           "sequential": [
            [
             0,
             "#0d0887"
            ],
            [
             0.1111111111111111,
             "#46039f"
            ],
            [
             0.2222222222222222,
             "#7201a8"
            ],
            [
             0.3333333333333333,
             "#9c179e"
            ],
            [
             0.4444444444444444,
             "#bd3786"
            ],
            [
             0.5555555555555556,
             "#d8576b"
            ],
            [
             0.6666666666666666,
             "#ed7953"
            ],
            [
             0.7777777777777778,
             "#fb9f3a"
            ],
            [
             0.8888888888888888,
             "#fdca26"
            ],
            [
             1,
             "#f0f921"
            ]
           ],
           "sequentialminus": [
            [
             0,
             "#0d0887"
            ],
            [
             0.1111111111111111,
             "#46039f"
            ],
            [
             0.2222222222222222,
             "#7201a8"
            ],
            [
             0.3333333333333333,
             "#9c179e"
            ],
            [
             0.4444444444444444,
             "#bd3786"
            ],
            [
             0.5555555555555556,
             "#d8576b"
            ],
            [
             0.6666666666666666,
             "#ed7953"
            ],
            [
             0.7777777777777778,
             "#fb9f3a"
            ],
            [
             0.8888888888888888,
             "#fdca26"
            ],
            [
             1,
             "#f0f921"
            ]
           ]
          },
          "colorway": [
           "#636efa",
           "#EF553B",
           "#00cc96",
           "#ab63fa",
           "#FFA15A",
           "#19d3f3",
           "#FF6692",
           "#B6E880",
           "#FF97FF",
           "#FECB52"
          ],
          "font": {
           "color": "#2a3f5f"
          },
          "geo": {
           "bgcolor": "white",
           "lakecolor": "white",
           "landcolor": "white",
           "showlakes": true,
           "showland": true,
           "subunitcolor": "#C8D4E3"
          },
          "hoverlabel": {
           "align": "left"
          },
          "hovermode": "closest",
          "mapbox": {
           "style": "light"
          },
          "paper_bgcolor": "white",
          "plot_bgcolor": "white",
          "polar": {
           "angularaxis": {
            "gridcolor": "#EBF0F8",
            "linecolor": "#EBF0F8",
            "ticks": ""
           },
           "bgcolor": "white",
           "radialaxis": {
            "gridcolor": "#EBF0F8",
            "linecolor": "#EBF0F8",
            "ticks": ""
           }
          },
          "scene": {
           "xaxis": {
            "backgroundcolor": "white",
            "gridcolor": "#DFE8F3",
            "gridwidth": 2,
            "linecolor": "#EBF0F8",
            "showbackground": true,
            "ticks": "",
            "zerolinecolor": "#EBF0F8"
           },
           "yaxis": {
            "backgroundcolor": "white",
            "gridcolor": "#DFE8F3",
            "gridwidth": 2,
            "linecolor": "#EBF0F8",
            "showbackground": true,
            "ticks": "",
            "zerolinecolor": "#EBF0F8"
           },
           "zaxis": {
            "backgroundcolor": "white",
            "gridcolor": "#DFE8F3",
            "gridwidth": 2,
            "linecolor": "#EBF0F8",
            "showbackground": true,
            "ticks": "",
            "zerolinecolor": "#EBF0F8"
           }
          },
          "shapedefaults": {
           "line": {
            "color": "#2a3f5f"
           }
          },
          "ternary": {
           "aaxis": {
            "gridcolor": "#DFE8F3",
            "linecolor": "#A2B1C6",
            "ticks": ""
           },
           "baxis": {
            "gridcolor": "#DFE8F3",
            "linecolor": "#A2B1C6",
            "ticks": ""
           },
           "bgcolor": "white",
           "caxis": {
            "gridcolor": "#DFE8F3",
            "linecolor": "#A2B1C6",
            "ticks": ""
           }
          },
          "title": {
           "x": 0.05
          },
          "xaxis": {
           "automargin": true,
           "gridcolor": "#EBF0F8",
           "linecolor": "#EBF0F8",
           "ticks": "",
           "title": {
            "standoff": 15
           },
           "zerolinecolor": "#EBF0F8",
           "zerolinewidth": 2
          },
          "yaxis": {
           "automargin": true,
           "gridcolor": "#EBF0F8",
           "linecolor": "#EBF0F8",
           "ticks": "",
           "title": {
            "standoff": 15
           },
           "zerolinecolor": "#EBF0F8",
           "zerolinewidth": 2
          }
         }
        },
        "title": {
         "text": "Risk vs Return (1Y, log returns)"
        },
        "width": 850,
        "xaxis": {
         "title": {
          "text": "Annualized Volatility"
         }
        },
        "yaxis": {
         "title": {
          "text": "Annualized Return"
         }
        }
       }
      }
     },
     "metadata": {},
     "output_type": "display_data"
    },
    {
     "data": {
      "application/vnd.plotly.v1+json": {
       "config": {
        "plotlyServerURL": "https://plot.ly"
       },
       "data": [
        {
         "hovertemplate": "<b>%{text}</b><br>Vol: %{x:.2%}<br>Ret: %{y:.2%}<br>Sharpe: %{marker.color:.2f}<extra></extra>",
         "marker": {
          "color": [
           -0.2230529331003487,
           -0.021174693932436327,
           0.6433149434111214,
           0.15076162879220525,
           -0.6428332364734997,
           -1.130096985055091,
           0.32498567435345704,
           0.5470074277713082,
           -0.1857068632056507,
           0.0965759286851934,
           -1.8590563380142207,
           -0.04829506199952605,
           0.37215983685229725,
           0.07084699143416603,
           -0.7775112067388528,
           -0.026186841281973093,
           0.1770423715990025,
           -0.10292402967157868,
           -0.908427187585723,
           0.49498437193610373,
           0.4694206907676217,
           -0.36179181632285773,
           -0.6268983025827838,
           -0.7430038532448615,
           0.8779623967258011,
           -0.07519326618274785
          ],
          "colorbar": {
           "title": {
            "text": "Sharpe"
           }
          },
          "colorscale": [
           [
            0,
            "rgb(165,0,38)"
           ],
           [
            0.1,
            "rgb(215,48,39)"
           ],
           [
            0.2,
            "rgb(244,109,67)"
           ],
           [
            0.3,
            "rgb(253,174,97)"
           ],
           [
            0.4,
            "rgb(254,224,139)"
           ],
           [
            0.5,
            "rgb(255,255,191)"
           ],
           [
            0.6,
            "rgb(217,239,139)"
           ],
           [
            0.7,
            "rgb(166,217,106)"
           ],
           [
            0.8,
            "rgb(102,189,99)"
           ],
           [
            0.9,
            "rgb(26,152,80)"
           ],
           [
            1,
            "rgb(0,104,55)"
           ]
          ],
          "line": {
           "color": "black",
           "width": 0.6
          },
          "showscale": true,
          "size": 9
         },
         "mode": "markers+text",
         "name": "Risk vs Return (3Y, log returns)",
         "text": [
          "KVIKA",
          "ALVO",
          "AMRQ",
          "NOVA",
          "EIM",
          "SYN",
          "SJOVA",
          "HAGA",
          "EIK",
          "HEIMAR",
          "PLAY",
          "SKAGI",
          "SIMINN",
          "HAMP",
          "ICESEA",
          "ARION",
          "REITIR",
          "SKEL",
          "BRIM",
          "FESTI",
          "KALD",
          "OMXI15",
          "ICEAIR",
          "SVN",
          "OLGERD",
          "ISB"
         ],
         "textfont": {
          "size": 10
         },
         "textposition": "top center",
         "type": "scatter",
         "x": [
          0.30140218463302243,
          0.5292601875851827,
          0.32266858741670634,
          0.15967415668110976,
          0.25455555511209577,
          0.28815088929232235,
          0.19546984538094106,
          0.23147311045914126,
          0.2479720567782287,
          0.19505278051757713,
          0.6687445618454884,
          0.23097707376983886,
          0.2172557891817683,
          0.2711435431486025,
          0.2621480540498741,
          0.21514381492353643,
          0.22711698278615558,
          0.2817980642851334,
          0.17168889462400472,
          0.2005222847431939,
          0.21997497876647018,
          0.1808337901343506,
          0.3448059213839915,
          0.17482244033463254,
          0.21246763719509532,
          0.22988606059156327
         ],
         "y": [
          -0.0672286413252485,
          -0.01120692248274008,
          0.2075775240545249,
          0.02407273593726589,
          -0.16363677135501684,
          -0.3256384512301968,
          0.06352489951689111,
          0.12661751075047875,
          -0.04605011282693836,
          0.01883740342111421,
          -1.243233816211398,
          -0.01115505209818347,
          0.08085387905710398,
          0.01920970427887847,
          -0.20382304984855962,
          -0.0056339369342008425,
          0.04020932926287081,
          -0.029003792329876505,
          -0.15596685968298618,
          0.09925539717280238,
          0.10326080648414936,
          -0.06542418538525317,
          -0.21615824683611706,
          -0.12989374680230187,
          0.18653859597847386,
          -0.01728588374576472
         ]
        }
       ],
       "layout": {
        "height": 600,
        "hovermode": "closest",
        "shapes": [
         {
          "line": {
           "color": "lightgray",
           "width": 1
          },
          "type": "line",
          "x0": 0,
          "x1": 1,
          "xref": "x domain",
          "y0": 0,
          "y1": 0,
          "yref": "y"
         }
        ],
        "template": {
         "data": {
          "bar": [
           {
            "error_x": {
             "color": "#2a3f5f"
            },
            "error_y": {
             "color": "#2a3f5f"
            },
            "marker": {
             "line": {
              "color": "white",
              "width": 0.5
             },
             "pattern": {
              "fillmode": "overlay",
              "size": 10,
              "solidity": 0.2
             }
            },
            "type": "bar"
           }
          ],
          "barpolar": [
           {
            "marker": {
             "line": {
              "color": "white",
              "width": 0.5
             },
             "pattern": {
              "fillmode": "overlay",
              "size": 10,
              "solidity": 0.2
             }
            },
            "type": "barpolar"
           }
          ],
          "carpet": [
           {
            "aaxis": {
             "endlinecolor": "#2a3f5f",
             "gridcolor": "#C8D4E3",
             "linecolor": "#C8D4E3",
             "minorgridcolor": "#C8D4E3",
             "startlinecolor": "#2a3f5f"
            },
            "baxis": {
             "endlinecolor": "#2a3f5f",
             "gridcolor": "#C8D4E3",
             "linecolor": "#C8D4E3",
             "minorgridcolor": "#C8D4E3",
             "startlinecolor": "#2a3f5f"
            },
            "type": "carpet"
           }
          ],
          "choropleth": [
           {
            "colorbar": {
             "outlinewidth": 0,
             "ticks": ""
            },
            "type": "choropleth"
           }
          ],
          "contour": [
           {
            "colorbar": {
             "outlinewidth": 0,
             "ticks": ""
            },
            "colorscale": [
             [
              0,
              "#0d0887"
             ],
             [
              0.1111111111111111,
              "#46039f"
             ],
             [
              0.2222222222222222,
              "#7201a8"
             ],
             [
              0.3333333333333333,
              "#9c179e"
             ],
             [
              0.4444444444444444,
              "#bd3786"
             ],
             [
              0.5555555555555556,
              "#d8576b"
             ],
             [
              0.6666666666666666,
              "#ed7953"
             ],
             [
              0.7777777777777778,
              "#fb9f3a"
             ],
             [
              0.8888888888888888,
              "#fdca26"
             ],
             [
              1,
              "#f0f921"
             ]
            ],
            "type": "contour"
           }
          ],
          "contourcarpet": [
           {
            "colorbar": {
             "outlinewidth": 0,
             "ticks": ""
            },
            "type": "contourcarpet"
           }
          ],
          "heatmap": [
           {
            "colorbar": {
             "outlinewidth": 0,
             "ticks": ""
            },
            "colorscale": [
             [
              0,
              "#0d0887"
             ],
             [
              0.1111111111111111,
              "#46039f"
             ],
             [
              0.2222222222222222,
              "#7201a8"
             ],
             [
              0.3333333333333333,
              "#9c179e"
             ],
             [
              0.4444444444444444,
              "#bd3786"
             ],
             [
              0.5555555555555556,
              "#d8576b"
             ],
             [
              0.6666666666666666,
              "#ed7953"
             ],
             [
              0.7777777777777778,
              "#fb9f3a"
             ],
             [
              0.8888888888888888,
              "#fdca26"
             ],
             [
              1,
              "#f0f921"
             ]
            ],
            "type": "heatmap"
           }
          ],
          "heatmapgl": [
           {
            "colorbar": {
             "outlinewidth": 0,
             "ticks": ""
            },
            "colorscale": [
             [
              0,
              "#0d0887"
             ],
             [
              0.1111111111111111,
              "#46039f"
             ],
             [
              0.2222222222222222,
              "#7201a8"
             ],
             [
              0.3333333333333333,
              "#9c179e"
             ],
             [
              0.4444444444444444,
              "#bd3786"
             ],
             [
              0.5555555555555556,
              "#d8576b"
             ],
             [
              0.6666666666666666,
              "#ed7953"
             ],
             [
              0.7777777777777778,
              "#fb9f3a"
             ],
             [
              0.8888888888888888,
              "#fdca26"
             ],
             [
              1,
              "#f0f921"
             ]
            ],
            "type": "heatmapgl"
           }
          ],
          "histogram": [
           {
            "marker": {
             "pattern": {
              "fillmode": "overlay",
              "size": 10,
              "solidity": 0.2
             }
            },
            "type": "histogram"
           }
          ],
          "histogram2d": [
           {
            "colorbar": {
             "outlinewidth": 0,
             "ticks": ""
            },
            "colorscale": [
             [
              0,
              "#0d0887"
             ],
             [
              0.1111111111111111,
              "#46039f"
             ],
             [
              0.2222222222222222,
              "#7201a8"
             ],
             [
              0.3333333333333333,
              "#9c179e"
             ],
             [
              0.4444444444444444,
              "#bd3786"
             ],
             [
              0.5555555555555556,
              "#d8576b"
             ],
             [
              0.6666666666666666,
              "#ed7953"
             ],
             [
              0.7777777777777778,
              "#fb9f3a"
             ],
             [
              0.8888888888888888,
              "#fdca26"
             ],
             [
              1,
              "#f0f921"
             ]
            ],
            "type": "histogram2d"
           }
          ],
          "histogram2dcontour": [
           {
            "colorbar": {
             "outlinewidth": 0,
             "ticks": ""
            },
            "colorscale": [
             [
              0,
              "#0d0887"
             ],
             [
              0.1111111111111111,
              "#46039f"
             ],
             [
              0.2222222222222222,
              "#7201a8"
             ],
             [
              0.3333333333333333,
              "#9c179e"
             ],
             [
              0.4444444444444444,
              "#bd3786"
             ],
             [
              0.5555555555555556,
              "#d8576b"
             ],
             [
              0.6666666666666666,
              "#ed7953"
             ],
             [
              0.7777777777777778,
              "#fb9f3a"
             ],
             [
              0.8888888888888888,
              "#fdca26"
             ],
             [
              1,
              "#f0f921"
             ]
            ],
            "type": "histogram2dcontour"
           }
          ],
          "mesh3d": [
           {
            "colorbar": {
             "outlinewidth": 0,
             "ticks": ""
            },
            "type": "mesh3d"
           }
          ],
          "parcoords": [
           {
            "line": {
             "colorbar": {
              "outlinewidth": 0,
              "ticks": ""
             }
            },
            "type": "parcoords"
           }
          ],
          "pie": [
           {
            "automargin": true,
            "type": "pie"
           }
          ],
          "scatter": [
           {
            "fillpattern": {
             "fillmode": "overlay",
             "size": 10,
             "solidity": 0.2
            },
            "type": "scatter"
           }
          ],
          "scatter3d": [
           {
            "line": {
             "colorbar": {
              "outlinewidth": 0,
              "ticks": ""
             }
            },
            "marker": {
             "colorbar": {
              "outlinewidth": 0,
              "ticks": ""
             }
            },
            "type": "scatter3d"
           }
          ],
          "scattercarpet": [
           {
            "marker": {
             "colorbar": {
              "outlinewidth": 0,
              "ticks": ""
             }
            },
            "type": "scattercarpet"
           }
          ],
          "scattergeo": [
           {
            "marker": {
             "colorbar": {
              "outlinewidth": 0,
              "ticks": ""
             }
            },
            "type": "scattergeo"
           }
          ],
          "scattergl": [
           {
            "marker": {
             "colorbar": {
              "outlinewidth": 0,
              "ticks": ""
             }
            },
            "type": "scattergl"
           }
          ],
          "scattermapbox": [
           {
            "marker": {
             "colorbar": {
              "outlinewidth": 0,
              "ticks": ""
             }
            },
            "type": "scattermapbox"
           }
          ],
          "scatterpolar": [
           {
            "marker": {
             "colorbar": {
              "outlinewidth": 0,
              "ticks": ""
             }
            },
            "type": "scatterpolar"
           }
          ],
          "scatterpolargl": [
           {
            "marker": {
             "colorbar": {
              "outlinewidth": 0,
              "ticks": ""
             }
            },
            "type": "scatterpolargl"
           }
          ],
          "scatterternary": [
           {
            "marker": {
             "colorbar": {
              "outlinewidth": 0,
              "ticks": ""
             }
            },
            "type": "scatterternary"
           }
          ],
          "surface": [
           {
            "colorbar": {
             "outlinewidth": 0,
             "ticks": ""
            },
            "colorscale": [
             [
              0,
              "#0d0887"
             ],
             [
              0.1111111111111111,
              "#46039f"
             ],
             [
              0.2222222222222222,
              "#7201a8"
             ],
             [
              0.3333333333333333,
              "#9c179e"
             ],
             [
              0.4444444444444444,
              "#bd3786"
             ],
             [
              0.5555555555555556,
              "#d8576b"
             ],
             [
              0.6666666666666666,
              "#ed7953"
             ],
             [
              0.7777777777777778,
              "#fb9f3a"
             ],
             [
              0.8888888888888888,
              "#fdca26"
             ],
             [
              1,
              "#f0f921"
             ]
            ],
            "type": "surface"
           }
          ],
          "table": [
           {
            "cells": {
             "fill": {
              "color": "#EBF0F8"
             },
             "line": {
              "color": "white"
             }
            },
            "header": {
             "fill": {
              "color": "#C8D4E3"
             },
             "line": {
              "color": "white"
             }
            },
            "type": "table"
           }
          ]
         },
         "layout": {
          "annotationdefaults": {
           "arrowcolor": "#2a3f5f",
           "arrowhead": 0,
           "arrowwidth": 1
          },
          "autotypenumbers": "strict",
          "coloraxis": {
           "colorbar": {
            "outlinewidth": 0,
            "ticks": ""
           }
          },
          "colorscale": {
           "diverging": [
            [
             0,
             "#8e0152"
            ],
            [
             0.1,
             "#c51b7d"
            ],
            [
             0.2,
             "#de77ae"
            ],
            [
             0.3,
             "#f1b6da"
            ],
            [
             0.4,
             "#fde0ef"
            ],
            [
             0.5,
             "#f7f7f7"
            ],
            [
             0.6,
             "#e6f5d0"
            ],
            [
             0.7,
             "#b8e186"
            ],
            [
             0.8,
             "#7fbc41"
            ],
            [
             0.9,
             "#4d9221"
            ],
            [
             1,
             "#276419"
            ]
           ],
           "sequential": [
            [
             0,
             "#0d0887"
            ],
            [
             0.1111111111111111,
             "#46039f"
            ],
            [
             0.2222222222222222,
             "#7201a8"
            ],
            [
             0.3333333333333333,
             "#9c179e"
            ],
            [
             0.4444444444444444,
             "#bd3786"
            ],
            [
             0.5555555555555556,
             "#d8576b"
            ],
            [
             0.6666666666666666,
             "#ed7953"
            ],
            [
             0.7777777777777778,
             "#fb9f3a"
            ],
            [
             0.8888888888888888,
             "#fdca26"
            ],
            [
             1,
             "#f0f921"
            ]
           ],
           "sequentialminus": [
            [
             0,
             "#0d0887"
            ],
            [
             0.1111111111111111,
             "#46039f"
            ],
            [
             0.2222222222222222,
             "#7201a8"
            ],
            [
             0.3333333333333333,
             "#9c179e"
            ],
            [
             0.4444444444444444,
             "#bd3786"
            ],
            [
             0.5555555555555556,
             "#d8576b"
            ],
            [
             0.6666666666666666,
             "#ed7953"
            ],
            [
             0.7777777777777778,
             "#fb9f3a"
            ],
            [
             0.8888888888888888,
             "#fdca26"
            ],
            [
             1,
             "#f0f921"
            ]
           ]
          },
          "colorway": [
           "#636efa",
           "#EF553B",
           "#00cc96",
           "#ab63fa",
           "#FFA15A",
           "#19d3f3",
           "#FF6692",
           "#B6E880",
           "#FF97FF",
           "#FECB52"
          ],
          "font": {
           "color": "#2a3f5f"
          },
          "geo": {
           "bgcolor": "white",
           "lakecolor": "white",
           "landcolor": "white",
           "showlakes": true,
           "showland": true,
           "subunitcolor": "#C8D4E3"
          },
          "hoverlabel": {
           "align": "left"
          },
          "hovermode": "closest",
          "mapbox": {
           "style": "light"
          },
          "paper_bgcolor": "white",
          "plot_bgcolor": "white",
          "polar": {
           "angularaxis": {
            "gridcolor": "#EBF0F8",
            "linecolor": "#EBF0F8",
            "ticks": ""
           },
           "bgcolor": "white",
           "radialaxis": {
            "gridcolor": "#EBF0F8",
            "linecolor": "#EBF0F8",
            "ticks": ""
           }
          },
          "scene": {
           "xaxis": {
            "backgroundcolor": "white",
            "gridcolor": "#DFE8F3",
            "gridwidth": 2,
            "linecolor": "#EBF0F8",
            "showbackground": true,
            "ticks": "",
            "zerolinecolor": "#EBF0F8"
           },
           "yaxis": {
            "backgroundcolor": "white",
            "gridcolor": "#DFE8F3",
            "gridwidth": 2,
            "linecolor": "#EBF0F8",
            "showbackground": true,
            "ticks": "",
            "zerolinecolor": "#EBF0F8"
           },
           "zaxis": {
            "backgroundcolor": "white",
            "gridcolor": "#DFE8F3",
            "gridwidth": 2,
            "linecolor": "#EBF0F8",
            "showbackground": true,
            "ticks": "",
            "zerolinecolor": "#EBF0F8"
           }
          },
          "shapedefaults": {
           "line": {
            "color": "#2a3f5f"
           }
          },
          "ternary": {
           "aaxis": {
            "gridcolor": "#DFE8F3",
            "linecolor": "#A2B1C6",
            "ticks": ""
           },
           "baxis": {
            "gridcolor": "#DFE8F3",
            "linecolor": "#A2B1C6",
            "ticks": ""
           },
           "bgcolor": "white",
           "caxis": {
            "gridcolor": "#DFE8F3",
            "linecolor": "#A2B1C6",
            "ticks": ""
           }
          },
          "title": {
           "x": 0.05
          },
          "xaxis": {
           "automargin": true,
           "gridcolor": "#EBF0F8",
           "linecolor": "#EBF0F8",
           "ticks": "",
           "title": {
            "standoff": 15
           },
           "zerolinecolor": "#EBF0F8",
           "zerolinewidth": 2
          },
          "yaxis": {
           "automargin": true,
           "gridcolor": "#EBF0F8",
           "linecolor": "#EBF0F8",
           "ticks": "",
           "title": {
            "standoff": 15
           },
           "zerolinecolor": "#EBF0F8",
           "zerolinewidth": 2
          }
         }
        },
        "title": {
         "text": "Risk vs Return (3Y, log returns)"
        },
        "width": 850,
        "xaxis": {
         "title": {
          "text": "Annualized Volatility"
         }
        },
        "yaxis": {
         "title": {
          "text": "Annualized Return"
         }
        }
       }
      }
     },
     "metadata": {},
     "output_type": "display_data"
    },
    {
     "data": {
      "application/vnd.plotly.v1+json": {
       "config": {
        "plotlyServerURL": "https://plot.ly"
       },
       "data": [
        {
         "hovertemplate": "<b>%{text}</b><br>Vol: %{x:.2%}<br>Ret: %{y:.2%}<br>Sharpe: %{marker.color:.2f}<extra></extra>",
         "marker": {
          "color": [
           0.404537531889779,
           0.6693249267555053,
           0.04595805657053655,
           0.782285653921713,
           0.702682279484652,
           0.5318139252160108,
           0.7208857204246448,
           -1.6002925405396342,
           0.5457251144034103,
           0.6509663174788081,
           0.5161472011402256,
           -0.38296675586036755,
           0.8706264942266104,
           0.6212980280444242,
           0.5000812420961167,
           0.33401211284755566,
           0.8012370782444402,
           0.8821976460115597,
           0.24763968184858046,
           -0.26242892993306016,
           0.16228889378906694,
           0.300604383969624
          ],
          "colorbar": {
           "title": {
            "text": "Sharpe"
           }
          },
          "colorscale": [
           [
            0,
            "rgb(165,0,38)"
           ],
           [
            0.1,
            "rgb(215,48,39)"
           ],
           [
            0.2,
            "rgb(244,109,67)"
           ],
           [
            0.3,
            "rgb(253,174,97)"
           ],
           [
            0.4,
            "rgb(254,224,139)"
           ],
           [
            0.5,
            "rgb(255,255,191)"
           ],
           [
            0.6,
            "rgb(217,239,139)"
           ],
           [
            0.7,
            "rgb(166,217,106)"
           ],
           [
            0.8,
            "rgb(102,189,99)"
           ],
           [
            0.9,
            "rgb(26,152,80)"
           ],
           [
            1,
            "rgb(0,104,55)"
           ]
          ],
          "line": {
           "color": "black",
           "width": 0.6
          },
          "showscale": true,
          "size": 9
         },
         "mode": "markers+text",
         "name": "Risk vs Return (5Y, log returns)",
         "text": [
          "KVIKA",
          "EIM",
          "SYN",
          "SJOVA",
          "HAGA",
          "EIK",
          "HEIMAR",
          "PLAY",
          "SKAGI",
          "SIMINN",
          "HAMP",
          "ICESEA",
          "ARION",
          "REITIR",
          "SKEL",
          "BRIM",
          "FESTI",
          "KALD",
          "OMXI15",
          "ICEAIR",
          "SVN",
          "ISB"
         ],
         "textfont": {
          "size": 10
         },
         "textposition": "top center",
         "type": "scatter",
         "x": [
          0.28048176628194327,
          0.2780339801108288,
          0.2899340511770221,
          0.1985028167389629,
          0.2219539572785397,
          0.25023335395191393,
          0.21333447790400692,
          0.5992519353901813,
          0.2353256918547572,
          0.22280528822870668,
          0.2844030437281384,
          0.26677282868502566,
          0.2232368125564695,
          0.24610164839377324,
          0.2752794361469109,
          0.2085593191808471,
          0.19756248295575435,
          0.20912711589296915,
          0.1771897688553728,
          0.45042113736036443,
          0.19569755735468042,
          0.2179319746259798
         ],
         "y": [
          0.11346540147178316,
          0.1860950733732221,
          0.01332480552571842,
          0.15528590579794155,
          0.15596311264112334,
          0.1330775821851347,
          0.1537897787952455,
          -0.958978402108846,
          0.12842314010949907,
          0.14503873799304562,
          0.14679383501603982,
          -0.10216512475319788,
          0.194355883498362,
          0.15290246884553357,
          0.13766208235186586,
          0.06966133885364248,
          0.15829438661418563,
          0.18449144935796402,
          0.04387921798616803,
          -0.11820353709671234,
          0.031759540100313566,
          0.06551130697972639
         ]
        }
       ],
       "layout": {
        "height": 600,
        "hovermode": "closest",
        "shapes": [
         {
          "line": {
           "color": "lightgray",
           "width": 1
          },
          "type": "line",
          "x0": 0,
          "x1": 1,
          "xref": "x domain",
          "y0": 0,
          "y1": 0,
          "yref": "y"
         }
        ],
        "template": {
         "data": {
          "bar": [
           {
            "error_x": {
             "color": "#2a3f5f"
            },
            "error_y": {
             "color": "#2a3f5f"
            },
            "marker": {
             "line": {
              "color": "white",
              "width": 0.5
             },
             "pattern": {
              "fillmode": "overlay",
              "size": 10,
              "solidity": 0.2
             }
            },
            "type": "bar"
           }
          ],
          "barpolar": [
           {
            "marker": {
             "line": {
              "color": "white",
              "width": 0.5
             },
             "pattern": {
              "fillmode": "overlay",
              "size": 10,
              "solidity": 0.2
             }
            },
            "type": "barpolar"
           }
          ],
          "carpet": [
           {
            "aaxis": {
             "endlinecolor": "#2a3f5f",
             "gridcolor": "#C8D4E3",
             "linecolor": "#C8D4E3",
             "minorgridcolor": "#C8D4E3",
             "startlinecolor": "#2a3f5f"
            },
            "baxis": {
             "endlinecolor": "#2a3f5f",
             "gridcolor": "#C8D4E3",
             "linecolor": "#C8D4E3",
             "minorgridcolor": "#C8D4E3",
             "startlinecolor": "#2a3f5f"
            },
            "type": "carpet"
           }
          ],
          "choropleth": [
           {
            "colorbar": {
             "outlinewidth": 0,
             "ticks": ""
            },
            "type": "choropleth"
           }
          ],
          "contour": [
           {
            "colorbar": {
             "outlinewidth": 0,
             "ticks": ""
            },
            "colorscale": [
             [
              0,
              "#0d0887"
             ],
             [
              0.1111111111111111,
              "#46039f"
             ],
             [
              0.2222222222222222,
              "#7201a8"
             ],
             [
              0.3333333333333333,
              "#9c179e"
             ],
             [
              0.4444444444444444,
              "#bd3786"
             ],
             [
              0.5555555555555556,
              "#d8576b"
             ],
             [
              0.6666666666666666,
              "#ed7953"
             ],
             [
              0.7777777777777778,
              "#fb9f3a"
             ],
             [
              0.8888888888888888,
              "#fdca26"
             ],
             [
              1,
              "#f0f921"
             ]
            ],
            "type": "contour"
           }
          ],
          "contourcarpet": [
           {
            "colorbar": {
             "outlinewidth": 0,
             "ticks": ""
            },
            "type": "contourcarpet"
           }
          ],
          "heatmap": [
           {
            "colorbar": {
             "outlinewidth": 0,
             "ticks": ""
            },
            "colorscale": [
             [
              0,
              "#0d0887"
             ],
             [
              0.1111111111111111,
              "#46039f"
             ],
             [
              0.2222222222222222,
              "#7201a8"
             ],
             [
              0.3333333333333333,
              "#9c179e"
             ],
             [
              0.4444444444444444,
              "#bd3786"
             ],
             [
              0.5555555555555556,
              "#d8576b"
             ],
             [
              0.6666666666666666,
              "#ed7953"
             ],
             [
              0.7777777777777778,
              "#fb9f3a"
             ],
             [
              0.8888888888888888,
              "#fdca26"
             ],
             [
              1,
              "#f0f921"
             ]
            ],
            "type": "heatmap"
           }
          ],
          "heatmapgl": [
           {
            "colorbar": {
             "outlinewidth": 0,
             "ticks": ""
            },
            "colorscale": [
             [
              0,
              "#0d0887"
             ],
             [
              0.1111111111111111,
              "#46039f"
             ],
             [
              0.2222222222222222,
              "#7201a8"
             ],
             [
              0.3333333333333333,
              "#9c179e"
             ],
             [
              0.4444444444444444,
              "#bd3786"
             ],
             [
              0.5555555555555556,
              "#d8576b"
             ],
             [
              0.6666666666666666,
              "#ed7953"
             ],
             [
              0.7777777777777778,
              "#fb9f3a"
             ],
             [
              0.8888888888888888,
              "#fdca26"
             ],
             [
              1,
              "#f0f921"
             ]
            ],
            "type": "heatmapgl"
           }
          ],
          "histogram": [
           {
            "marker": {
             "pattern": {
              "fillmode": "overlay",
              "size": 10,
              "solidity": 0.2
             }
            },
            "type": "histogram"
           }
          ],
          "histogram2d": [
           {
            "colorbar": {
             "outlinewidth": 0,
             "ticks": ""
            },
            "colorscale": [
             [
              0,
              "#0d0887"
             ],
             [
              0.1111111111111111,
              "#46039f"
             ],
             [
              0.2222222222222222,
              "#7201a8"
             ],
             [
              0.3333333333333333,
              "#9c179e"
             ],
             [
              0.4444444444444444,
              "#bd3786"
             ],
             [
              0.5555555555555556,
              "#d8576b"
             ],
             [
              0.6666666666666666,
              "#ed7953"
             ],
             [
              0.7777777777777778,
              "#fb9f3a"
             ],
             [
              0.8888888888888888,
              "#fdca26"
             ],
             [
              1,
              "#f0f921"
             ]
            ],
            "type": "histogram2d"
           }
          ],
          "histogram2dcontour": [
           {
            "colorbar": {
             "outlinewidth": 0,
             "ticks": ""
            },
            "colorscale": [
             [
              0,
              "#0d0887"
             ],
             [
              0.1111111111111111,
              "#46039f"
             ],
             [
              0.2222222222222222,
              "#7201a8"
             ],
             [
              0.3333333333333333,
              "#9c179e"
             ],
             [
              0.4444444444444444,
              "#bd3786"
             ],
             [
              0.5555555555555556,
              "#d8576b"
             ],
             [
              0.6666666666666666,
              "#ed7953"
             ],
             [
              0.7777777777777778,
              "#fb9f3a"
             ],
             [
              0.8888888888888888,
              "#fdca26"
             ],
             [
              1,
              "#f0f921"
             ]
            ],
            "type": "histogram2dcontour"
           }
          ],
          "mesh3d": [
           {
            "colorbar": {
             "outlinewidth": 0,
             "ticks": ""
            },
            "type": "mesh3d"
           }
          ],
          "parcoords": [
           {
            "line": {
             "colorbar": {
              "outlinewidth": 0,
              "ticks": ""
             }
            },
            "type": "parcoords"
           }
          ],
          "pie": [
           {
            "automargin": true,
            "type": "pie"
           }
          ],
          "scatter": [
           {
            "fillpattern": {
             "fillmode": "overlay",
             "size": 10,
             "solidity": 0.2
            },
            "type": "scatter"
           }
          ],
          "scatter3d": [
           {
            "line": {
             "colorbar": {
              "outlinewidth": 0,
              "ticks": ""
             }
            },
            "marker": {
             "colorbar": {
              "outlinewidth": 0,
              "ticks": ""
             }
            },
            "type": "scatter3d"
           }
          ],
          "scattercarpet": [
           {
            "marker": {
             "colorbar": {
              "outlinewidth": 0,
              "ticks": ""
             }
            },
            "type": "scattercarpet"
           }
          ],
          "scattergeo": [
           {
            "marker": {
             "colorbar": {
              "outlinewidth": 0,
              "ticks": ""
             }
            },
            "type": "scattergeo"
           }
          ],
          "scattergl": [
           {
            "marker": {
             "colorbar": {
              "outlinewidth": 0,
              "ticks": ""
             }
            },
            "type": "scattergl"
           }
          ],
          "scattermapbox": [
           {
            "marker": {
             "colorbar": {
              "outlinewidth": 0,
              "ticks": ""
             }
            },
            "type": "scattermapbox"
           }
          ],
          "scatterpolar": [
           {
            "marker": {
             "colorbar": {
              "outlinewidth": 0,
              "ticks": ""
             }
            },
            "type": "scatterpolar"
           }
          ],
          "scatterpolargl": [
           {
            "marker": {
             "colorbar": {
              "outlinewidth": 0,
              "ticks": ""
             }
            },
            "type": "scatterpolargl"
           }
          ],
          "scatterternary": [
           {
            "marker": {
             "colorbar": {
              "outlinewidth": 0,
              "ticks": ""
             }
            },
            "type": "scatterternary"
           }
          ],
          "surface": [
           {
            "colorbar": {
             "outlinewidth": 0,
             "ticks": ""
            },
            "colorscale": [
             [
              0,
              "#0d0887"
             ],
             [
              0.1111111111111111,
              "#46039f"
             ],
             [
              0.2222222222222222,
              "#7201a8"
             ],
             [
              0.3333333333333333,
              "#9c179e"
             ],
             [
              0.4444444444444444,
              "#bd3786"
             ],
             [
              0.5555555555555556,
              "#d8576b"
             ],
             [
              0.6666666666666666,
              "#ed7953"
             ],
             [
              0.7777777777777778,
              "#fb9f3a"
             ],
             [
              0.8888888888888888,
              "#fdca26"
             ],
             [
              1,
              "#f0f921"
             ]
            ],
            "type": "surface"
           }
          ],
          "table": [
           {
            "cells": {
             "fill": {
              "color": "#EBF0F8"
             },
             "line": {
              "color": "white"
             }
            },
            "header": {
             "fill": {
              "color": "#C8D4E3"
             },
             "line": {
              "color": "white"
             }
            },
            "type": "table"
           }
          ]
         },
         "layout": {
          "annotationdefaults": {
           "arrowcolor": "#2a3f5f",
           "arrowhead": 0,
           "arrowwidth": 1
          },
          "autotypenumbers": "strict",
          "coloraxis": {
           "colorbar": {
            "outlinewidth": 0,
            "ticks": ""
           }
          },
          "colorscale": {
           "diverging": [
            [
             0,
             "#8e0152"
            ],
            [
             0.1,
             "#c51b7d"
            ],
            [
             0.2,
             "#de77ae"
            ],
            [
             0.3,
             "#f1b6da"
            ],
            [
             0.4,
             "#fde0ef"
            ],
            [
             0.5,
             "#f7f7f7"
            ],
            [
             0.6,
             "#e6f5d0"
            ],
            [
             0.7,
             "#b8e186"
            ],
            [
             0.8,
             "#7fbc41"
            ],
            [
             0.9,
             "#4d9221"
            ],
            [
             1,
             "#276419"
            ]
           ],
           "sequential": [
            [
             0,
             "#0d0887"
            ],
            [
             0.1111111111111111,
             "#46039f"
            ],
            [
             0.2222222222222222,
             "#7201a8"
            ],
            [
             0.3333333333333333,
             "#9c179e"
            ],
            [
             0.4444444444444444,
             "#bd3786"
            ],
            [
             0.5555555555555556,
             "#d8576b"
            ],
            [
             0.6666666666666666,
             "#ed7953"
            ],
            [
             0.7777777777777778,
             "#fb9f3a"
            ],
            [
             0.8888888888888888,
             "#fdca26"
            ],
            [
             1,
             "#f0f921"
            ]
           ],
           "sequentialminus": [
            [
             0,
             "#0d0887"
            ],
            [
             0.1111111111111111,
             "#46039f"
            ],
            [
             0.2222222222222222,
             "#7201a8"
            ],
            [
             0.3333333333333333,
             "#9c179e"
            ],
            [
             0.4444444444444444,
             "#bd3786"
            ],
            [
             0.5555555555555556,
             "#d8576b"
            ],
            [
             0.6666666666666666,
             "#ed7953"
            ],
            [
             0.7777777777777778,
             "#fb9f3a"
            ],
            [
             0.8888888888888888,
             "#fdca26"
            ],
            [
             1,
             "#f0f921"
            ]
           ]
          },
          "colorway": [
           "#636efa",
           "#EF553B",
           "#00cc96",
           "#ab63fa",
           "#FFA15A",
           "#19d3f3",
           "#FF6692",
           "#B6E880",
           "#FF97FF",
           "#FECB52"
          ],
          "font": {
           "color": "#2a3f5f"
          },
          "geo": {
           "bgcolor": "white",
           "lakecolor": "white",
           "landcolor": "white",
           "showlakes": true,
           "showland": true,
           "subunitcolor": "#C8D4E3"
          },
          "hoverlabel": {
           "align": "left"
          },
          "hovermode": "closest",
          "mapbox": {
           "style": "light"
          },
          "paper_bgcolor": "white",
          "plot_bgcolor": "white",
          "polar": {
           "angularaxis": {
            "gridcolor": "#EBF0F8",
            "linecolor": "#EBF0F8",
            "ticks": ""
           },
           "bgcolor": "white",
           "radialaxis": {
            "gridcolor": "#EBF0F8",
            "linecolor": "#EBF0F8",
            "ticks": ""
           }
          },
          "scene": {
           "xaxis": {
            "backgroundcolor": "white",
            "gridcolor": "#DFE8F3",
            "gridwidth": 2,
            "linecolor": "#EBF0F8",
            "showbackground": true,
            "ticks": "",
            "zerolinecolor": "#EBF0F8"
           },
           "yaxis": {
            "backgroundcolor": "white",
            "gridcolor": "#DFE8F3",
            "gridwidth": 2,
            "linecolor": "#EBF0F8",
            "showbackground": true,
            "ticks": "",
            "zerolinecolor": "#EBF0F8"
           },
           "zaxis": {
            "backgroundcolor": "white",
            "gridcolor": "#DFE8F3",
            "gridwidth": 2,
            "linecolor": "#EBF0F8",
            "showbackground": true,
            "ticks": "",
            "zerolinecolor": "#EBF0F8"
           }
          },
          "shapedefaults": {
           "line": {
            "color": "#2a3f5f"
           }
          },
          "ternary": {
           "aaxis": {
            "gridcolor": "#DFE8F3",
            "linecolor": "#A2B1C6",
            "ticks": ""
           },
           "baxis": {
            "gridcolor": "#DFE8F3",
            "linecolor": "#A2B1C6",
            "ticks": ""
           },
           "bgcolor": "white",
           "caxis": {
            "gridcolor": "#DFE8F3",
            "linecolor": "#A2B1C6",
            "ticks": ""
           }
          },
          "title": {
           "x": 0.05
          },
          "xaxis": {
           "automargin": true,
           "gridcolor": "#EBF0F8",
           "linecolor": "#EBF0F8",
           "ticks": "",
           "title": {
            "standoff": 15
           },
           "zerolinecolor": "#EBF0F8",
           "zerolinewidth": 2
          },
          "yaxis": {
           "automargin": true,
           "gridcolor": "#EBF0F8",
           "linecolor": "#EBF0F8",
           "ticks": "",
           "title": {
            "standoff": 15
           },
           "zerolinecolor": "#EBF0F8",
           "zerolinewidth": 2
          }
         }
        },
        "title": {
         "text": "Risk vs Return (5Y, log returns)"
        },
        "width": 850,
        "xaxis": {
         "title": {
          "text": "Annualized Volatility"
         }
        },
        "yaxis": {
         "title": {
          "text": "Annualized Return"
         }
        }
       }
      }
     },
     "metadata": {},
     "output_type": "display_data"
    }
   ],
   "source": [
    "import numpy as np, pandas as pd\n",
    "import plotly.express as px\n",
    "import plotly.graph_objects as go\n",
    "\n",
    "ann = 252\n",
    "logret = np.log(closes / closes.shift(1))  # closes: wide price DF (date × tickers)\n",
    "\n",
    "def risk_return(df, window_days):\n",
    "    win = df.tail(window_days)\n",
    "    valid = win.dropna(axis=1, thresh=int(0.8*len(win)))\n",
    "    mu = valid.mean() * ann\n",
    "    vol = valid.std() * np.sqrt(ann)\n",
    "    sharpe = mu / vol\n",
    "    rr = pd.DataFrame({\n",
    "        \"ticker\": mu.index,\n",
    "        \"ann_ret\": mu.values,\n",
    "        \"ann_vol\": vol.values,\n",
    "        \"sharpe\": sharpe.values\n",
    "    })\n",
    "    return rr.dropna()\n",
    "\n",
    "def plot_risk_return(rr: pd.DataFrame, title: str):\n",
    "    fig = go.Figure(go.Scatter(\n",
    "        x=rr[\"ann_vol\"], y=rr[\"ann_ret\"], mode=\"markers+text\",\n",
    "        text=rr[\"ticker\"], textposition=\"top center\", textfont=dict(size=10),\n",
    "        marker=dict(\n",
    "            size=9,\n",
    "            line=dict(width=0.6, color=\"black\"),\n",
    "            color=rr[\"sharpe\"],\n",
    "            colorscale=\"RdYlGn\",\n",
    "            colorbar=dict(title=\"Sharpe\"),\n",
    "            showscale=True\n",
    "        ),\n",
    "        hovertemplate=\"<b>%{text}</b><br>Vol: %{x:.2%}<br>Ret: %{y:.2%}<br>Sharpe: %{marker.color:.2f}<extra></extra>\",\n",
    "        name=title\n",
    "    ))\n",
    "    fig.update_layout(\n",
    "        title=title,\n",
    "        xaxis_title=\"Annualized Volatility\",\n",
    "        yaxis_title=\"Annualized Return\",\n",
    "        template=\"plotly_white\",\n",
    "        hovermode=\"closest\",\n",
    "        width=850, height=600\n",
    "    )\n",
    "    fig.add_hline(y=0, line_width=1, line_color=\"lightgray\")\n",
    "    fig.show()\n",
    "    return fig\n",
    "\n",
    "# Build datasets\n",
    "data_1y = risk_return(logret, 252)\n",
    "data_3y = risk_return(logret, 756)\n",
    "data_5y = risk_return(logret, 1260)\n",
    "\n",
    "# Three separate figures\n",
    "fig_1y = plot_risk_return(data_1y,  \"Risk vs Return (1Y, log returns)\")\n",
    "fig_3y = plot_risk_return(data_3y,  \"Risk vs Return (3Y, log returns)\")\n",
    "fig_5y = plot_risk_return(data_5y,  \"Risk vs Return (5Y, log returns)\")\n",
    "\n",
    "# (Optional) save\n",
    "# fig_1y.write_html(\"risk_return_1y.html\");  fig_1y.write_image(\"risk_return_1y.png\", scale=2)\n",
    "# fig_3y.write_html(\"risk_return_3y.html\");  fig_3y.write_image(\"risk_return_3y.png\", scale=2)\n",
    "# fig_5y.write_html(\"risk_return_5y.html\");  fig_5y.write_image(\"risk_return_5y.png\", scale=2)\n"
   ]
  },
  {
   "cell_type": "code",
   "execution_count": 42,
   "metadata": {},
   "outputs": [
    {
     "name": "stderr",
     "output_type": "stream",
     "text": [
      "/var/folders/7q/6lj2n2p91rd55drvkkr0bqq40000gn/T/ipykernel_12464/1178204738.py:25: FutureWarning:\n",
      "\n",
      "'M' is deprecated and will be removed in a future version, please use 'ME' instead.\n",
      "\n"
     ]
    },
    {
     "name": "stdout",
     "output_type": "stream",
     "text": [
      "   Lookback  Skip       Side   CAGR    Vol  Sharpe  MaxDD  HitRate   Obs\n",
      "0         3     1   LongOnly  0.074  0.183   0.482 -0.297    0.529  85.0\n",
      "2         6     1   LongOnly  0.141  0.173   0.850 -0.272    0.573  82.0\n",
      "4        12     1   LongOnly  0.122  0.174   0.749 -0.252    0.579  76.0\n",
      "1         3     1  LongShort -0.009  0.180   0.041 -0.451    0.506  85.0\n",
      "3         6     1  LongShort  0.128  0.191   0.725 -0.198    0.549  82.0\n",
      "5        12     1  LongShort  0.099  0.203   0.567 -0.356    0.553  76.0\n"
     ]
    },
    {
     "data": {
      "image/png": "[encoded data removed]",
      "text/plain": [
       "<Figure size 1000x600 with 1 Axes>"
      ]
     },
     "metadata": {},
     "output_type": "display_data"
    }
   ],
   "source": [
    "import numpy as np\n",
    "import pandas as pd\n",
    "import matplotlib.pyplot as plt\n",
    "\n",
    "# -------- Helpers --------\n",
    "def perf_stats(r, ann=12):\n",
    "    r = r.dropna()\n",
    "    if len(r) == 0:\n",
    "        return {\"CAGR\": np.nan, \"Vol\": np.nan, \"Sharpe\": np.nan, \"MaxDD\": np.nan, \"HitRate\": np.nan, \"Obs\": 0}\n",
    "    cum = (1 + r).cumprod()\n",
    "    cagr = cum.iloc[-1]**(ann/len(r)) - 1\n",
    "    vol  = r.std() * np.sqrt(ann)\n",
    "    sharpe = (r.mean() * ann) / vol if vol > 0 else np.nan\n",
    "    roll_max = cum.cummax()\n",
    "    dd = cum/roll_max - 1\n",
    "    maxdd = dd.min()\n",
    "    hit = (r > 0).mean()\n",
    "    return {\"CAGR\": cagr, \"Vol\": vol, \"Sharpe\": sharpe, \"MaxDD\": maxdd, \"HitRate\": hit, \"Obs\": len(r)}\n",
    "\n",
    "def equity_curve(r, label):\n",
    "    (1+r.dropna()).cumprod().plot(lw=1.6, label=label)\n",
    "\n",
    "# -------- Prep monthly prices/returns --------\n",
    "# closes: daily prices (Date index), columns = tickers\n",
    "prices_m = closes.resample('M').last()\n",
    "rets_m   = prices_m.pct_change()  # next-month realized returns when shifted -1 in portfolio calc\n",
    "\n",
    "# -------- Momentum backtest --------\n",
    "def run_momentum(prices_m, lookback=12, skip=1, top_q=0.3, bot_q=0.3, min_names=5, long_short=True):\n",
    "    \"\"\"\n",
    "    prices_m: month-end prices (Date × Ticker)\n",
    "    lookback: L in L-1 momentum (e.g., 12 => use t-12..t-2 window effectively via skip=1)\n",
    "    skip: months to skip (usually 1 => '12-1 momentum')\n",
    "    long_short: if True, long top_q & short bottom_q; else long-only top_q\n",
    "    \"\"\"\n",
    "    # momentum signal: price(t-skip) / price(t-skip-lookback) - 1\n",
    "    mom = prices_m.shift(skip) / prices_m.shift(skip + lookback) - 1\n",
    "\n",
    "    # forward next-month returns for P&L attribution\n",
    "    fwd_ret = prices_m.pct_change().shift(-1)\n",
    "\n",
    "    long_r, ls_r = [], []\n",
    "    dates = []\n",
    "\n",
    "    for dt in mom.index:\n",
    "        s = mom.loc[dt].dropna()\n",
    "        if s.count() < max(min_names, 3):\n",
    "            continue\n",
    "\n",
    "        # ranks (higher momentum is better)\n",
    "        ranks = s.rank(method='first', ascending=False)\n",
    "        n = len(ranks)\n",
    "        k_long = max(int(np.floor(n*top_q)), 1)\n",
    "        k_short = max(int(np.floor(n*bot_q)), 1) if long_short else 0\n",
    "\n",
    "        long_names = ranks.nsmallest(k_long).index\n",
    "        short_names = ranks.nlargest(k_short).index if long_short else []\n",
    "\n",
    "        # next month's returns realized\n",
    "        if dt not in fwd_ret.index:\n",
    "            continue\n",
    "        nxt = fwd_ret.loc[dt]\n",
    "\n",
    "        # equal-weight portfolio returns\n",
    "        r_long = nxt[long_names].mean(skipna=True)\n",
    "        if long_short and k_short > 0:\n",
    "            r_short = nxt[short_names].mean(skipna=True)\n",
    "            r_ls = r_long - r_short\n",
    "        else:\n",
    "            r_ls = np.nan\n",
    "\n",
    "        long_r.append(r_long)\n",
    "        ls_r.append(r_ls)\n",
    "        dates.append(dt)\n",
    "\n",
    "    long_ser = pd.Series(long_r, index=pd.to_datetime(dates), name=f\"Long_Top{int(top_q*100)}_L{lookback}-S{skip}\")\n",
    "    ls_ser   = pd.Series(ls_r,   index=pd.to_datetime(dates), name=f\"LongShort_Top{int(top_q*100)}_Bot{int(bot_q*100)}_L{lookback}-S{skip}\")\n",
    "\n",
    "    return long_ser, ls_ser\n",
    "\n",
    "# -------- Run a small grid and summarize --------\n",
    "grid = [(3,1), (6,1), (12,1)]\n",
    "results = {}\n",
    "\n",
    "for L,S in grid:\n",
    "    long_only, long_short = run_momentum(prices_m, lookback=L, skip=S, top_q=0.3, bot_q=0.3, long_short=True)\n",
    "    results[(L,S,\"LongOnly\")]   = perf_stats(long_only, ann=12)\n",
    "    results[(L,S,\"LongShort\")]  = perf_stats(long_short.dropna(), ann=12)\n",
    "\n",
    "summary = (pd.DataFrame(results)\n",
    "             .T.rename_axis([\"Lookback\",\"Skip\",\"Side\"])\n",
    "             .reset_index()\n",
    "             .sort_values([\"Side\",\"Lookback\"]))\n",
    "print(summary.round(3))\n",
    "\n",
    "# -------- Plot equity curves --------\n",
    "plt.figure(figsize=(10,6))\n",
    "for (L,S) in grid:\n",
    "    long_only, long_short = run_momentum(prices_m, lookback=L, skip=S, top_q=0.3, bot_q=0.3, long_short=True)\n",
    "    equity_curve(long_only, f\"Long Top30% L{L}-S{S}\")\n",
    "    equity_curve(long_short.dropna(), f\"Long-Short Top30%-Bot30% L{L}-S{S}\")\n",
    "plt.title(\"Iceland Momentum — Monthly Equity Curves (EW)\")\n",
    "plt.legend()\n",
    "plt.tight_layout()\n",
    "plt.show()\n"
   ]
  },
  {
   "cell_type": "markdown",
   "metadata": {},
   "source": [
    "correlation"
   ]
  },
  {
   "cell_type": "code",
   "execution_count": 43,
   "metadata": {},
   "outputs": [
    {
     "name": "stderr",
     "output_type": "stream",
     "text": [
      "/var/folders/7q/6lj2n2p91rd55drvkkr0bqq40000gn/T/ipykernel_12464/1451456753.py:1: FutureWarning:\n",
      "\n",
      "The default fill_method='pad' in DataFrame.pct_change is deprecated and will be removed in a future version. Either fill in any non-leading NA values prior to calling pct_change or specify 'fill_method=None' to not fill NA values.\n",
      "\n"
     ]
    },
    {
     "name": "stdout",
     "output_type": "stream",
     "text": [
      "    Ticker1 Ticker2      Corr\n",
      "668  OMXI15    JBTM  0.723027\n",
      "723    JBTM  OMXI15  0.723027\n",
      "645  OMXI15    ALVO  0.675834\n",
      "50     ALVO  OMXI15  0.675834\n",
      "650  OMXI15   SJOVA  0.652416\n",
      "190   SJOVA  OMXI15  0.652416\n",
      "442   ARION  OMXI15  0.650781\n",
      "659  OMXI15   ARION  0.650781\n",
      "268  HEIMAR  REITIR  0.650753\n",
      "485  REITIR  HEIMAR  0.650753\n",
      "651  OMXI15    HAGA  0.617042\n",
      "218    HAGA  OMXI15  0.617042\n",
      "470     OCS  OMXI15  0.614163\n",
      "660  OMXI15     OCS  0.614163\n",
      "661  OMXI15  REITIR  0.592098\n",
      "498  REITIR  OMXI15  0.592098\n",
      "653  OMXI15  HEIMAR  0.590971\n",
      "274  HEIMAR  OMXI15  0.590971\n",
      "557    BRIM     SVN  0.590011\n",
      "747     SVN    BRIM  0.590011\n"
     ]
    },
    {
     "data": {
      "image/png": "[encoded data removed]",
      "text/plain": [
       "<Figure size 1000x800 with 2 Axes>"
      ]
     },
     "metadata": {},
     "output_type": "display_data"
    }
   ],
   "source": [
    "rets = closes.pct_change().dropna()   # or np.log(closes/closes.shift(1))\n",
    "corr = rets.corr()\n",
    "corr_pairs = (\n",
    "    corr.where(~np.eye(corr.shape[0],dtype=bool))\n",
    "        .stack()\n",
    "        .reset_index()\n",
    ")\n",
    "corr_pairs.columns = [\"Ticker1\",\"Ticker2\",\"Corr\"]\n",
    "\n",
    "high_corr = corr_pairs.sort_values(\"Corr\", ascending=False)\n",
    "print(high_corr.head(20))\n",
    "import seaborn as sns\n",
    "import matplotlib.pyplot as plt\n",
    "\n",
    "plt.figure(figsize=(10,8))\n",
    "sns.heatmap(corr, cmap=\"RdYlGn\", center=0, annot=False)\n",
    "plt.title(\"Correlation of Icelandic Equities (daily returns)\")\n",
    "plt.tight_layout()\n",
    "plt.show()\n"
   ]
  },
  {
   "cell_type": "code",
   "execution_count": 44,
   "metadata": {},
   "outputs": [
    {
     "name": "stdout",
     "output_type": "stream",
     "text": [
      "Cluster assignments:\n",
      "SVN        1\n",
      "ISF        1\n",
      "BRIM       1\n",
      "EIK        2\n",
      "HEIMAR     2\n",
      "REITIR     2\n",
      "FESTI      3\n",
      "SJOVA      3\n",
      "HAGA       3\n",
      "SKAGI      3\n",
      "SIMINN     3\n",
      "EIM        4\n",
      "KVIKA      5\n",
      "ARION      5\n",
      "ISB        5\n",
      "SKEL       6\n",
      "OMXI15     6\n",
      "JBTM       6\n",
      "ICESEA     7\n",
      "SYN        8\n",
      "OCS        9\n",
      "AMRQ       9\n",
      "ALVO       9\n",
      "PLAY      10\n",
      "ICEAIR    10\n",
      "NOVA      11\n",
      "KALD      12\n",
      "HAMP      13\n",
      "OLGERD    14\n",
      "Name: Cluster, dtype: int32\n"
     ]
    },
    {
     "data": {
      "image/png": "[encoded data removed]",
      "text/plain": [
       "<Figure size 1000x800 with 4 Axes>"
      ]
     },
     "metadata": {},
     "output_type": "display_data"
    }
   ],
   "source": [
    "import numpy as np, pandas as pd\n",
    "import seaborn as sns\n",
    "import matplotlib.pyplot as plt\n",
    "from scipy.cluster.hierarchy import linkage, fcluster\n",
    "from scipy.spatial.distance import squareform\n",
    "\n",
    "# logret: your daily log returns DataFrame (date × tickers)\n",
    "\n",
    "# --- Compute correlation matrix ---\n",
    "corr = logret.corr()\n",
    "\n",
    "# --- Hierarchical clustering on correlation distance ---\n",
    "# Convert correlation -> distance (so perfect correlation = 0)\n",
    "dist = 1 - corr\n",
    "# linkage matrix\n",
    "link = linkage(squareform(dist, checks=False), method=\"ward\")\n",
    "# cluster labels (adjust t for granularity)\n",
    "labels = fcluster(link, t=0.7, criterion=\"distance\")\n",
    "\n",
    "clusters = pd.Series(labels, index=corr.index, name=\"Cluster\")\n",
    "\n",
    "print(\"Cluster assignments:\")\n",
    "print(clusters.sort_values())\n",
    "\n",
    "# --- Heatmap with clustering ---\n",
    "sns.set(font_scale=0.8)\n",
    "cg = sns.clustermap(\n",
    "    corr,\n",
    "    method=\"ward\",\n",
    "    cmap=\"RdYlGn\",\n",
    "    center=0,\n",
    "    figsize=(10, 8),\n",
    "    annot=False,  # turn on if you want numbers\n",
    "    linewidths=0.2\n",
    ")\n",
    "plt.suptitle(\"Iceland Equities — Correlation Clustering\", y=1.02)\n",
    "plt.show()\n"
   ]
  }
 ],
 "metadata": {
  "kernelspec": {
   "display_name": "base",
   "language": "python",
   "name": "python3"
  },
  "language_info": {
   "codemirror_mode": {
    "name": "ipython",
    "version": 3
   },
   "file_extension": ".py",
   "mimetype": "text/x-python",
   "name": "python",
   "nbconvert_exporter": "python",
   "pygments_lexer": "ipython3",
   "version": "3.12.4"
  }
 },
 "nbformat": 4,
 "nbformat_minor": 2
}
